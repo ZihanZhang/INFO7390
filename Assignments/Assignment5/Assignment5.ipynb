{
 "cells": [
  {
   "cell_type": "code",
   "execution_count": 1,
   "metadata": {},
   "outputs": [],
   "source": [
    "import pandas as pd\n",
    "import numpy as np\n",
    "import datetime\n",
    "\n",
    "from sklearn.neighbors import KNeighborsClassifier\n",
    "from sklearn import svm\n",
    "from sklearn import linear_model\n",
    "from sklearn.linear_model import SGDClassifier\n",
    "\n",
    "import warnings\n",
    "warnings.filterwarnings('ignore')"
   ]
  },
  {
   "cell_type": "code",
   "execution_count": 2,
   "metadata": {},
   "outputs": [],
   "source": [
    "csv_file = pd.read_csv('./train_sample.csv')"
   ]
  },
  {
   "cell_type": "code",
   "execution_count": 3,
   "metadata": {
    "scrolled": true
   },
   "outputs": [
    {
     "data": {
      "text/html": [
       "<div>\n",
       "<style scoped>\n",
       "    .dataframe tbody tr th:only-of-type {\n",
       "        vertical-align: middle;\n",
       "    }\n",
       "\n",
       "    .dataframe tbody tr th {\n",
       "        vertical-align: top;\n",
       "    }\n",
       "\n",
       "    .dataframe thead th {\n",
       "        text-align: right;\n",
       "    }\n",
       "</style>\n",
       "<table border=\"1\" class=\"dataframe\">\n",
       "  <thead>\n",
       "    <tr style=\"text-align: right;\">\n",
       "      <th></th>\n",
       "      <th>ip</th>\n",
       "      <th>app</th>\n",
       "      <th>device</th>\n",
       "      <th>os</th>\n",
       "      <th>channel</th>\n",
       "      <th>click_time</th>\n",
       "      <th>attributed_time</th>\n",
       "      <th>is_attributed</th>\n",
       "    </tr>\n",
       "  </thead>\n",
       "  <tbody>\n",
       "    <tr>\n",
       "      <th>0</th>\n",
       "      <td>87540</td>\n",
       "      <td>12</td>\n",
       "      <td>1</td>\n",
       "      <td>13</td>\n",
       "      <td>497</td>\n",
       "      <td>2017-11-07 09:30:38</td>\n",
       "      <td>NaN</td>\n",
       "      <td>0</td>\n",
       "    </tr>\n",
       "    <tr>\n",
       "      <th>1</th>\n",
       "      <td>105560</td>\n",
       "      <td>25</td>\n",
       "      <td>1</td>\n",
       "      <td>17</td>\n",
       "      <td>259</td>\n",
       "      <td>2017-11-07 13:40:27</td>\n",
       "      <td>NaN</td>\n",
       "      <td>0</td>\n",
       "    </tr>\n",
       "    <tr>\n",
       "      <th>2</th>\n",
       "      <td>101424</td>\n",
       "      <td>12</td>\n",
       "      <td>1</td>\n",
       "      <td>19</td>\n",
       "      <td>212</td>\n",
       "      <td>2017-11-07 18:05:24</td>\n",
       "      <td>NaN</td>\n",
       "      <td>0</td>\n",
       "    </tr>\n",
       "    <tr>\n",
       "      <th>3</th>\n",
       "      <td>94584</td>\n",
       "      <td>13</td>\n",
       "      <td>1</td>\n",
       "      <td>13</td>\n",
       "      <td>477</td>\n",
       "      <td>2017-11-07 04:58:08</td>\n",
       "      <td>NaN</td>\n",
       "      <td>0</td>\n",
       "    </tr>\n",
       "    <tr>\n",
       "      <th>4</th>\n",
       "      <td>68413</td>\n",
       "      <td>12</td>\n",
       "      <td>1</td>\n",
       "      <td>1</td>\n",
       "      <td>178</td>\n",
       "      <td>2017-11-09 09:00:09</td>\n",
       "      <td>NaN</td>\n",
       "      <td>0</td>\n",
       "    </tr>\n",
       "  </tbody>\n",
       "</table>\n",
       "</div>"
      ],
      "text/plain": [
       "       ip  app  device  os  channel           click_time attributed_time  \\\n",
       "0   87540   12       1  13      497  2017-11-07 09:30:38             NaN   \n",
       "1  105560   25       1  17      259  2017-11-07 13:40:27             NaN   \n",
       "2  101424   12       1  19      212  2017-11-07 18:05:24             NaN   \n",
       "3   94584   13       1  13      477  2017-11-07 04:58:08             NaN   \n",
       "4   68413   12       1   1      178  2017-11-09 09:00:09             NaN   \n",
       "\n",
       "   is_attributed  \n",
       "0              0  \n",
       "1              0  \n",
       "2              0  \n",
       "3              0  \n",
       "4              0  "
      ]
     },
     "execution_count": 3,
     "metadata": {},
     "output_type": "execute_result"
    }
   ],
   "source": [
    "csv_file.head()"
   ]
  },
  {
   "cell_type": "code",
   "execution_count": 4,
   "metadata": {},
   "outputs": [
    {
     "data": {
      "text/html": [
       "<div>\n",
       "<style scoped>\n",
       "    .dataframe tbody tr th:only-of-type {\n",
       "        vertical-align: middle;\n",
       "    }\n",
       "\n",
       "    .dataframe tbody tr th {\n",
       "        vertical-align: top;\n",
       "    }\n",
       "\n",
       "    .dataframe thead th {\n",
       "        text-align: right;\n",
       "    }\n",
       "</style>\n",
       "<table border=\"1\" class=\"dataframe\">\n",
       "  <thead>\n",
       "    <tr style=\"text-align: right;\">\n",
       "      <th></th>\n",
       "      <th>ip</th>\n",
       "      <th>app</th>\n",
       "      <th>os</th>\n",
       "      <th>channel</th>\n",
       "    </tr>\n",
       "  </thead>\n",
       "  <tbody>\n",
       "    <tr>\n",
       "      <th>0</th>\n",
       "      <td>87540</td>\n",
       "      <td>12</td>\n",
       "      <td>13</td>\n",
       "      <td>497</td>\n",
       "    </tr>\n",
       "    <tr>\n",
       "      <th>1</th>\n",
       "      <td>105560</td>\n",
       "      <td>25</td>\n",
       "      <td>17</td>\n",
       "      <td>259</td>\n",
       "    </tr>\n",
       "    <tr>\n",
       "      <th>2</th>\n",
       "      <td>101424</td>\n",
       "      <td>12</td>\n",
       "      <td>19</td>\n",
       "      <td>212</td>\n",
       "    </tr>\n",
       "    <tr>\n",
       "      <th>3</th>\n",
       "      <td>94584</td>\n",
       "      <td>13</td>\n",
       "      <td>13</td>\n",
       "      <td>477</td>\n",
       "    </tr>\n",
       "    <tr>\n",
       "      <th>4</th>\n",
       "      <td>68413</td>\n",
       "      <td>12</td>\n",
       "      <td>1</td>\n",
       "      <td>178</td>\n",
       "    </tr>\n",
       "  </tbody>\n",
       "</table>\n",
       "</div>"
      ],
      "text/plain": [
       "       ip  app  os  channel\n",
       "0   87540   12  13      497\n",
       "1  105560   25  17      259\n",
       "2  101424   12  19      212\n",
       "3   94584   13  13      477\n",
       "4   68413   12   1      178"
      ]
     },
     "execution_count": 4,
     "metadata": {},
     "output_type": "execute_result"
    }
   ],
   "source": [
    "X = csv_file[['ip', 'app', 'os', 'channel']]\n",
    "X[0:5]"
   ]
  },
  {
   "cell_type": "code",
   "execution_count": 5,
   "metadata": {},
   "outputs": [
    {
     "data": {
      "text/plain": [
       "array([1, 1, 1, ..., 1, 1, 1])"
      ]
     },
     "execution_count": 5,
     "metadata": {},
     "output_type": "execute_result"
    }
   ],
   "source": [
    "Y = csv_file[['device']].values.ravel()\n",
    "Y"
   ]
  },
  {
   "cell_type": "code",
   "execution_count": 6,
   "metadata": {
    "scrolled": true
   },
   "outputs": [
    {
     "data": {
      "text/html": [
       "<div>\n",
       "<style scoped>\n",
       "    .dataframe tbody tr th:only-of-type {\n",
       "        vertical-align: middle;\n",
       "    }\n",
       "\n",
       "    .dataframe tbody tr th {\n",
       "        vertical-align: top;\n",
       "    }\n",
       "\n",
       "    .dataframe thead th {\n",
       "        text-align: right;\n",
       "    }\n",
       "</style>\n",
       "<table border=\"1\" class=\"dataframe\">\n",
       "  <thead>\n",
       "    <tr style=\"text-align: right;\">\n",
       "      <th></th>\n",
       "      <th>ip</th>\n",
       "      <th>app</th>\n",
       "      <th>os</th>\n",
       "      <th>channel</th>\n",
       "    </tr>\n",
       "  </thead>\n",
       "  <tbody>\n",
       "    <tr>\n",
       "      <th>2</th>\n",
       "      <td>101424</td>\n",
       "      <td>12</td>\n",
       "      <td>19</td>\n",
       "      <td>212</td>\n",
       "    </tr>\n",
       "  </tbody>\n",
       "</table>\n",
       "</div>"
      ],
      "text/plain": [
       "       ip  app  os  channel\n",
       "2  101424   12  19      212"
      ]
     },
     "execution_count": 6,
     "metadata": {},
     "output_type": "execute_result"
    }
   ],
   "source": [
    "pre = csv_file.iloc[[2]][['ip', 'app', 'os', 'channel']]\n",
    "pre"
   ]
  },
  {
   "cell_type": "markdown",
   "metadata": {},
   "source": [
    "### KNN"
   ]
  },
  {
   "cell_type": "code",
   "execution_count": 7,
   "metadata": {
    "collapsed": true
   },
   "outputs": [],
   "source": [
    "knn = KNeighborsClassifier(n_neighbors=6)"
   ]
  },
  {
   "cell_type": "code",
   "execution_count": 8,
   "metadata": {},
   "outputs": [
    {
     "data": {
      "text/plain": [
       "KNeighborsClassifier(algorithm='auto', leaf_size=30, metric='minkowski',\n",
       "           metric_params=None, n_jobs=1, n_neighbors=6, p=2,\n",
       "           weights='uniform')"
      ]
     },
     "execution_count": 8,
     "metadata": {},
     "output_type": "execute_result"
    }
   ],
   "source": [
    "knn.fit(X, Y)"
   ]
  },
  {
   "cell_type": "code",
   "execution_count": 9,
   "metadata": {},
   "outputs": [
    {
     "name": "stdout",
     "output_type": "stream",
     "text": [
      "[1]\n"
     ]
    }
   ],
   "source": [
    "result = knn.predict(pre)\n",
    "print(result)"
   ]
  },
  {
   "cell_type": "markdown",
   "metadata": {},
   "source": [
    "### Linear Regression"
   ]
  },
  {
   "cell_type": "code",
   "execution_count": 10,
   "metadata": {},
   "outputs": [
    {
     "data": {
      "text/plain": [
       "LinearRegression(copy_X=True, fit_intercept=True, n_jobs=1, normalize=False)"
      ]
     },
     "execution_count": 10,
     "metadata": {},
     "output_type": "execute_result"
    }
   ],
   "source": [
    "regr = linear_model.LinearRegression()\n",
    "regr.fit(X, Y)"
   ]
  },
  {
   "cell_type": "code",
   "execution_count": 11,
   "metadata": {
    "scrolled": false
   },
   "outputs": [
    {
     "name": "stdout",
     "output_type": "stream",
     "text": [
      "[5.90634187]\n"
     ]
    }
   ],
   "source": [
    "print(regr.predict(pre))"
   ]
  },
  {
   "cell_type": "markdown",
   "metadata": {},
   "source": [
    "### Support vector machines"
   ]
  },
  {
   "cell_type": "code",
   "execution_count": 12,
   "metadata": {
    "collapsed": true
   },
   "outputs": [],
   "source": [
    "svc = svm.SVC(kernel='linear')"
   ]
  },
  {
   "cell_type": "code",
   "execution_count": 13,
   "metadata": {},
   "outputs": [
    {
     "data": {
      "text/html": [
       "<div>\n",
       "<style scoped>\n",
       "    .dataframe tbody tr th:only-of-type {\n",
       "        vertical-align: middle;\n",
       "    }\n",
       "\n",
       "    .dataframe tbody tr th {\n",
       "        vertical-align: top;\n",
       "    }\n",
       "\n",
       "    .dataframe thead th {\n",
       "        text-align: right;\n",
       "    }\n",
       "</style>\n",
       "<table border=\"1\" class=\"dataframe\">\n",
       "  <thead>\n",
       "    <tr style=\"text-align: right;\">\n",
       "      <th></th>\n",
       "      <th>ip</th>\n",
       "      <th>app</th>\n",
       "      <th>os</th>\n",
       "      <th>channel</th>\n",
       "    </tr>\n",
       "  </thead>\n",
       "  <tbody>\n",
       "    <tr>\n",
       "      <th>0</th>\n",
       "      <td>87540</td>\n",
       "      <td>12</td>\n",
       "      <td>13</td>\n",
       "      <td>497</td>\n",
       "    </tr>\n",
       "    <tr>\n",
       "      <th>1</th>\n",
       "      <td>105560</td>\n",
       "      <td>25</td>\n",
       "      <td>17</td>\n",
       "      <td>259</td>\n",
       "    </tr>\n",
       "    <tr>\n",
       "      <th>2</th>\n",
       "      <td>101424</td>\n",
       "      <td>12</td>\n",
       "      <td>19</td>\n",
       "      <td>212</td>\n",
       "    </tr>\n",
       "    <tr>\n",
       "      <th>3</th>\n",
       "      <td>94584</td>\n",
       "      <td>13</td>\n",
       "      <td>13</td>\n",
       "      <td>477</td>\n",
       "    </tr>\n",
       "    <tr>\n",
       "      <th>4</th>\n",
       "      <td>68413</td>\n",
       "      <td>12</td>\n",
       "      <td>1</td>\n",
       "      <td>178</td>\n",
       "    </tr>\n",
       "  </tbody>\n",
       "</table>\n",
       "</div>"
      ],
      "text/plain": [
       "       ip  app  os  channel\n",
       "0   87540   12  13      497\n",
       "1  105560   25  17      259\n",
       "2  101424   12  19      212\n",
       "3   94584   13  13      477\n",
       "4   68413   12   1      178"
      ]
     },
     "execution_count": 13,
     "metadata": {},
     "output_type": "execute_result"
    }
   ],
   "source": [
    "X_fast = X[:100]\n",
    "X_fast[0:5]"
   ]
  },
  {
   "cell_type": "code",
   "execution_count": 14,
   "metadata": {},
   "outputs": [
    {
     "data": {
      "text/plain": [
       "array([1, 1, 1, 1, 1])"
      ]
     },
     "execution_count": 14,
     "metadata": {},
     "output_type": "execute_result"
    }
   ],
   "source": [
    "Y_fast = Y[:100]\n",
    "Y_fast[0:5]"
   ]
  },
  {
   "cell_type": "code",
   "execution_count": 15,
   "metadata": {},
   "outputs": [
    {
     "data": {
      "text/plain": [
       "SVC(C=1.0, cache_size=200, class_weight=None, coef0=0.0,\n",
       "  decision_function_shape='ovr', degree=3, gamma='auto', kernel='linear',\n",
       "  max_iter=-1, probability=False, random_state=None, shrinking=True,\n",
       "  tol=0.001, verbose=False)"
      ]
     },
     "execution_count": 15,
     "metadata": {},
     "output_type": "execute_result"
    }
   ],
   "source": [
    "svc.fit(X_fast, Y_fast) "
   ]
  },
  {
   "cell_type": "code",
   "execution_count": 16,
   "metadata": {
    "scrolled": true
   },
   "outputs": [
    {
     "name": "stdout",
     "output_type": "stream",
     "text": [
      "[1]\n"
     ]
    }
   ],
   "source": [
    "print(svc.predict(pre))"
   ]
  },
  {
   "cell_type": "markdown",
   "metadata": {},
   "source": [
    "### Stochastic Gradient Descent"
   ]
  },
  {
   "cell_type": "code",
   "execution_count": 17,
   "metadata": {
    "collapsed": true
   },
   "outputs": [],
   "source": [
    "clf = SGDClassifier(loss=\"hinge\", penalty=\"l2\")"
   ]
  },
  {
   "cell_type": "code",
   "execution_count": 18,
   "metadata": {},
   "outputs": [
    {
     "data": {
      "text/plain": [
       "SGDClassifier(alpha=0.0001, average=False, class_weight=None, epsilon=0.1,\n",
       "       eta0=0.0, fit_intercept=True, l1_ratio=0.15,\n",
       "       learning_rate='optimal', loss='hinge', max_iter=None, n_iter=None,\n",
       "       n_jobs=1, penalty='l2', power_t=0.5, random_state=None,\n",
       "       shuffle=True, tol=None, verbose=0, warm_start=False)"
      ]
     },
     "execution_count": 18,
     "metadata": {},
     "output_type": "execute_result"
    }
   ],
   "source": [
    "clf.fit(X, Y)"
   ]
  },
  {
   "cell_type": "code",
   "execution_count": 19,
   "metadata": {},
   "outputs": [
    {
     "name": "stdout",
     "output_type": "stream",
     "text": [
      "[1]\n"
     ]
    }
   ],
   "source": [
    "print(clf.predict(pre))"
   ]
  },
  {
   "cell_type": "markdown",
   "metadata": {},
   "source": [
    "##### Which hyper-parameters are important?"
   ]
  },
  {
   "cell_type": "markdown",
   "metadata": {},
   "source": [
    "In KNN, n_neighbors is important <br>\n",
    "In SGD, penalty and loss"
   ]
  },
  {
   "cell_type": "markdown",
   "metadata": {},
   "source": [
    "##### What hyper-parameter values work best? "
   ]
  },
  {
   "cell_type": "markdown",
   "metadata": {},
   "source": [
    "In KNN, n_neighbors = 6<br>\n",
    "In SGD, penalty = 12, loss = \"hinge\" which gives a linear SVM"
   ]
  },
  {
   "cell_type": "markdown",
   "metadata": {},
   "source": [
    "##### Which supervised learner works best on the test data?  "
   ]
  },
  {
   "cell_type": "markdown",
   "metadata": {},
   "source": [
    "KNN is the fastest and the most accurate learner. Other learner work slower than it. I even have to reduce the number of the training data to fit SVM. Linear Regression cannot predict correctly."
   ]
  },
  {
   "cell_type": "markdown",
   "metadata": {},
   "source": [
    "# Part B"
   ]
  },
  {
   "cell_type": "code",
   "execution_count": 20,
   "metadata": {
    "collapsed": true
   },
   "outputs": [],
   "source": [
    "%matplotlib inline \n",
    "import matplotlib.pyplot as plt\n",
    "import numpy as np\n",
    "import pandas as pd\n",
    "from scipy import stats\n",
    "import seaborn as sns\n",
    "import warnings\n",
    "import random\n",
    "from datetime import datetime\n",
    "random.seed(datetime.now())\n",
    "warnings.filterwarnings('ignore')\n",
    " \n",
    "# Make plots larger\n",
    "plt.rcParams['figure.figsize'] = (10, 6)"
   ]
  },
  {
   "cell_type": "code",
   "execution_count": 21,
   "metadata": {},
   "outputs": [
    {
     "name": "stderr",
     "output_type": "stream",
     "text": [
      "Using TensorFlow backend.\n"
     ]
    }
   ],
   "source": [
    "import keras\n",
    "from keras.datasets import mnist\n",
    "from keras.models import Sequential\n",
    "from keras.layers import Dense\n",
    "from keras.optimizers import SGD"
   ]
  },
  {
   "cell_type": "code",
   "execution_count": 22,
   "metadata": {},
   "outputs": [
    {
     "name": "stdout",
     "output_type": "stream",
     "text": [
      "<class 'pandas.core.frame.DataFrame'>\n",
      "RangeIndex: 200000 entries, 0 to 199999\n",
      "Data columns (total 8 columns):\n",
      "ip                 200000 non-null int64\n",
      "app                200000 non-null int64\n",
      "device             200000 non-null int64\n",
      "os                 200000 non-null int64\n",
      "channel            200000 non-null int64\n",
      "click_time         200000 non-null object\n",
      "attributed_time    348 non-null object\n",
      "is_attributed      200000 non-null int64\n",
      "dtypes: int64(6), object(2)\n",
      "memory usage: 12.2+ MB\n"
     ]
    }
   ],
   "source": [
    "import pandas as pd\n",
    "\n",
    "df_train= pd.read_csv('./train.csv') #train data subset, original too large\n",
    "df_train.info()"
   ]
  },
  {
   "cell_type": "code",
   "execution_count": 23,
   "metadata": {},
   "outputs": [
    {
     "data": {
      "text/html": [
       "<div>\n",
       "<style scoped>\n",
       "    .dataframe tbody tr th:only-of-type {\n",
       "        vertical-align: middle;\n",
       "    }\n",
       "\n",
       "    .dataframe tbody tr th {\n",
       "        vertical-align: top;\n",
       "    }\n",
       "\n",
       "    .dataframe thead th {\n",
       "        text-align: right;\n",
       "    }\n",
       "</style>\n",
       "<table border=\"1\" class=\"dataframe\">\n",
       "  <thead>\n",
       "    <tr style=\"text-align: right;\">\n",
       "      <th></th>\n",
       "      <th>ip</th>\n",
       "      <th>app</th>\n",
       "      <th>device</th>\n",
       "      <th>os</th>\n",
       "      <th>channel</th>\n",
       "      <th>click_time</th>\n",
       "      <th>attributed_time</th>\n",
       "      <th>is_attributed</th>\n",
       "    </tr>\n",
       "  </thead>\n",
       "  <tbody>\n",
       "    <tr>\n",
       "      <th>0</th>\n",
       "      <td>83230</td>\n",
       "      <td>3</td>\n",
       "      <td>1</td>\n",
       "      <td>13</td>\n",
       "      <td>379</td>\n",
       "      <td>2017-11-06 14:32:21</td>\n",
       "      <td>NaN</td>\n",
       "      <td>0</td>\n",
       "    </tr>\n",
       "    <tr>\n",
       "      <th>1</th>\n",
       "      <td>17357</td>\n",
       "      <td>3</td>\n",
       "      <td>1</td>\n",
       "      <td>19</td>\n",
       "      <td>379</td>\n",
       "      <td>2017-11-06 14:33:34</td>\n",
       "      <td>NaN</td>\n",
       "      <td>0</td>\n",
       "    </tr>\n",
       "    <tr>\n",
       "      <th>2</th>\n",
       "      <td>35810</td>\n",
       "      <td>3</td>\n",
       "      <td>1</td>\n",
       "      <td>13</td>\n",
       "      <td>379</td>\n",
       "      <td>2017-11-06 14:34:12</td>\n",
       "      <td>NaN</td>\n",
       "      <td>0</td>\n",
       "    </tr>\n",
       "    <tr>\n",
       "      <th>3</th>\n",
       "      <td>45745</td>\n",
       "      <td>14</td>\n",
       "      <td>1</td>\n",
       "      <td>13</td>\n",
       "      <td>478</td>\n",
       "      <td>2017-11-06 14:34:52</td>\n",
       "      <td>NaN</td>\n",
       "      <td>0</td>\n",
       "    </tr>\n",
       "    <tr>\n",
       "      <th>4</th>\n",
       "      <td>161007</td>\n",
       "      <td>3</td>\n",
       "      <td>1</td>\n",
       "      <td>13</td>\n",
       "      <td>379</td>\n",
       "      <td>2017-11-06 14:35:08</td>\n",
       "      <td>NaN</td>\n",
       "      <td>0</td>\n",
       "    </tr>\n",
       "    <tr>\n",
       "      <th>5</th>\n",
       "      <td>18787</td>\n",
       "      <td>3</td>\n",
       "      <td>1</td>\n",
       "      <td>16</td>\n",
       "      <td>379</td>\n",
       "      <td>2017-11-06 14:36:26</td>\n",
       "      <td>NaN</td>\n",
       "      <td>0</td>\n",
       "    </tr>\n",
       "    <tr>\n",
       "      <th>6</th>\n",
       "      <td>103022</td>\n",
       "      <td>3</td>\n",
       "      <td>1</td>\n",
       "      <td>23</td>\n",
       "      <td>379</td>\n",
       "      <td>2017-11-06 14:37:44</td>\n",
       "      <td>NaN</td>\n",
       "      <td>0</td>\n",
       "    </tr>\n",
       "    <tr>\n",
       "      <th>7</th>\n",
       "      <td>114221</td>\n",
       "      <td>3</td>\n",
       "      <td>1</td>\n",
       "      <td>19</td>\n",
       "      <td>379</td>\n",
       "      <td>2017-11-06 14:37:59</td>\n",
       "      <td>NaN</td>\n",
       "      <td>0</td>\n",
       "    </tr>\n",
       "    <tr>\n",
       "      <th>8</th>\n",
       "      <td>165970</td>\n",
       "      <td>3</td>\n",
       "      <td>1</td>\n",
       "      <td>13</td>\n",
       "      <td>379</td>\n",
       "      <td>2017-11-06 14:38:10</td>\n",
       "      <td>NaN</td>\n",
       "      <td>0</td>\n",
       "    </tr>\n",
       "    <tr>\n",
       "      <th>9</th>\n",
       "      <td>74544</td>\n",
       "      <td>64</td>\n",
       "      <td>1</td>\n",
       "      <td>22</td>\n",
       "      <td>459</td>\n",
       "      <td>2017-11-06 14:38:23</td>\n",
       "      <td>NaN</td>\n",
       "      <td>0</td>\n",
       "    </tr>\n",
       "    <tr>\n",
       "      <th>10</th>\n",
       "      <td>172522</td>\n",
       "      <td>3</td>\n",
       "      <td>1</td>\n",
       "      <td>25</td>\n",
       "      <td>379</td>\n",
       "      <td>2017-11-06 14:38:27</td>\n",
       "      <td>NaN</td>\n",
       "      <td>0</td>\n",
       "    </tr>\n",
       "    <tr>\n",
       "      <th>11</th>\n",
       "      <td>105861</td>\n",
       "      <td>3</td>\n",
       "      <td>1</td>\n",
       "      <td>13</td>\n",
       "      <td>379</td>\n",
       "      <td>2017-11-06 14:38:51</td>\n",
       "      <td>NaN</td>\n",
       "      <td>0</td>\n",
       "    </tr>\n",
       "    <tr>\n",
       "      <th>12</th>\n",
       "      <td>210962</td>\n",
       "      <td>3</td>\n",
       "      <td>1</td>\n",
       "      <td>19</td>\n",
       "      <td>379</td>\n",
       "      <td>2017-11-06 14:39:29</td>\n",
       "      <td>NaN</td>\n",
       "      <td>0</td>\n",
       "    </tr>\n",
       "    <tr>\n",
       "      <th>13</th>\n",
       "      <td>124979</td>\n",
       "      <td>3</td>\n",
       "      <td>1</td>\n",
       "      <td>18</td>\n",
       "      <td>379</td>\n",
       "      <td>2017-11-06 14:40:16</td>\n",
       "      <td>NaN</td>\n",
       "      <td>0</td>\n",
       "    </tr>\n",
       "    <tr>\n",
       "      <th>14</th>\n",
       "      <td>38816</td>\n",
       "      <td>3</td>\n",
       "      <td>1</td>\n",
       "      <td>18</td>\n",
       "      <td>379</td>\n",
       "      <td>2017-11-06 14:40:39</td>\n",
       "      <td>NaN</td>\n",
       "      <td>0</td>\n",
       "    </tr>\n",
       "    <tr>\n",
       "      <th>15</th>\n",
       "      <td>80447</td>\n",
       "      <td>3</td>\n",
       "      <td>1</td>\n",
       "      <td>19</td>\n",
       "      <td>379</td>\n",
       "      <td>2017-11-06 14:40:51</td>\n",
       "      <td>NaN</td>\n",
       "      <td>0</td>\n",
       "    </tr>\n",
       "    <tr>\n",
       "      <th>16</th>\n",
       "      <td>134575</td>\n",
       "      <td>3</td>\n",
       "      <td>1</td>\n",
       "      <td>13</td>\n",
       "      <td>379</td>\n",
       "      <td>2017-11-06 14:43:10</td>\n",
       "      <td>NaN</td>\n",
       "      <td>0</td>\n",
       "    </tr>\n",
       "    <tr>\n",
       "      <th>17</th>\n",
       "      <td>57576</td>\n",
       "      <td>3</td>\n",
       "      <td>1</td>\n",
       "      <td>19</td>\n",
       "      <td>379</td>\n",
       "      <td>2017-11-06 14:43:14</td>\n",
       "      <td>NaN</td>\n",
       "      <td>0</td>\n",
       "    </tr>\n",
       "    <tr>\n",
       "      <th>18</th>\n",
       "      <td>7755</td>\n",
       "      <td>3</td>\n",
       "      <td>1</td>\n",
       "      <td>13</td>\n",
       "      <td>379</td>\n",
       "      <td>2017-11-06 14:43:25</td>\n",
       "      <td>NaN</td>\n",
       "      <td>0</td>\n",
       "    </tr>\n",
       "    <tr>\n",
       "      <th>19</th>\n",
       "      <td>91749</td>\n",
       "      <td>3</td>\n",
       "      <td>1</td>\n",
       "      <td>19</td>\n",
       "      <td>379</td>\n",
       "      <td>2017-11-06 14:43:51</td>\n",
       "      <td>NaN</td>\n",
       "      <td>0</td>\n",
       "    </tr>\n",
       "  </tbody>\n",
       "</table>\n",
       "</div>"
      ],
      "text/plain": [
       "        ip  app  device  os  channel           click_time attributed_time  \\\n",
       "0    83230    3       1  13      379  2017-11-06 14:32:21             NaN   \n",
       "1    17357    3       1  19      379  2017-11-06 14:33:34             NaN   \n",
       "2    35810    3       1  13      379  2017-11-06 14:34:12             NaN   \n",
       "3    45745   14       1  13      478  2017-11-06 14:34:52             NaN   \n",
       "4   161007    3       1  13      379  2017-11-06 14:35:08             NaN   \n",
       "5    18787    3       1  16      379  2017-11-06 14:36:26             NaN   \n",
       "6   103022    3       1  23      379  2017-11-06 14:37:44             NaN   \n",
       "7   114221    3       1  19      379  2017-11-06 14:37:59             NaN   \n",
       "8   165970    3       1  13      379  2017-11-06 14:38:10             NaN   \n",
       "9    74544   64       1  22      459  2017-11-06 14:38:23             NaN   \n",
       "10  172522    3       1  25      379  2017-11-06 14:38:27             NaN   \n",
       "11  105861    3       1  13      379  2017-11-06 14:38:51             NaN   \n",
       "12  210962    3       1  19      379  2017-11-06 14:39:29             NaN   \n",
       "13  124979    3       1  18      379  2017-11-06 14:40:16             NaN   \n",
       "14   38816    3       1  18      379  2017-11-06 14:40:39             NaN   \n",
       "15   80447    3       1  19      379  2017-11-06 14:40:51             NaN   \n",
       "16  134575    3       1  13      379  2017-11-06 14:43:10             NaN   \n",
       "17   57576    3       1  19      379  2017-11-06 14:43:14             NaN   \n",
       "18    7755    3       1  13      379  2017-11-06 14:43:25             NaN   \n",
       "19   91749    3       1  19      379  2017-11-06 14:43:51             NaN   \n",
       "\n",
       "    is_attributed  \n",
       "0               0  \n",
       "1               0  \n",
       "2               0  \n",
       "3               0  \n",
       "4               0  \n",
       "5               0  \n",
       "6               0  \n",
       "7               0  \n",
       "8               0  \n",
       "9               0  \n",
       "10              0  \n",
       "11              0  \n",
       "12              0  \n",
       "13              0  \n",
       "14              0  \n",
       "15              0  \n",
       "16              0  \n",
       "17              0  \n",
       "18              0  \n",
       "19              0  "
      ]
     },
     "execution_count": 23,
     "metadata": {},
     "output_type": "execute_result"
    }
   ],
   "source": [
    "df_train.head(20)"
   ]
  },
  {
   "cell_type": "code",
   "execution_count": 24,
   "metadata": {},
   "outputs": [
    {
     "data": {
      "text/plain": [
       "0    199652\n",
       "1       348\n",
       "Name: is_attributed, dtype: int64"
      ]
     },
     "execution_count": 24,
     "metadata": {},
     "output_type": "execute_result"
    }
   ],
   "source": [
    "df_train[\"is_attributed\"].value_counts()"
   ]
  },
  {
   "cell_type": "code",
   "execution_count": 25,
   "metadata": {},
   "outputs": [
    {
     "name": "stdout",
     "output_type": "stream",
     "text": [
      "<class 'pandas.core.frame.DataFrame'>\n",
      "RangeIndex: 200000 entries, 0 to 199999\n",
      "Data columns (total 8 columns):\n",
      "ip                 200000 non-null int64\n",
      "app                200000 non-null int64\n",
      "device             200000 non-null int64\n",
      "os                 200000 non-null int64\n",
      "channel            200000 non-null int64\n",
      "click_time         200000 non-null object\n",
      "attributed_time    356 non-null object\n",
      "is_attributed      200000 non-null int64\n",
      "dtypes: int64(6), object(2)\n",
      "memory usage: 12.2+ MB\n"
     ]
    }
   ],
   "source": [
    "import pandas as pd\n",
    "df_test= pd.read_csv('./train.csv', nrows=200000,skiprows=range(1, 400000)) #train data subset, original too large\n",
    "\n",
    "\n",
    "df_test.info()"
   ]
  },
  {
   "cell_type": "code",
   "execution_count": 26,
   "metadata": {},
   "outputs": [
    {
     "data": {
      "text/html": [
       "<div>\n",
       "<style scoped>\n",
       "    .dataframe tbody tr th:only-of-type {\n",
       "        vertical-align: middle;\n",
       "    }\n",
       "\n",
       "    .dataframe tbody tr th {\n",
       "        vertical-align: top;\n",
       "    }\n",
       "\n",
       "    .dataframe thead th {\n",
       "        text-align: right;\n",
       "    }\n",
       "</style>\n",
       "<table border=\"1\" class=\"dataframe\">\n",
       "  <thead>\n",
       "    <tr style=\"text-align: right;\">\n",
       "      <th></th>\n",
       "      <th>ip</th>\n",
       "      <th>app</th>\n",
       "      <th>device</th>\n",
       "      <th>os</th>\n",
       "      <th>channel</th>\n",
       "      <th>click_time</th>\n",
       "      <th>attributed_time</th>\n",
       "      <th>is_attributed</th>\n",
       "    </tr>\n",
       "  </thead>\n",
       "  <tbody>\n",
       "    <tr>\n",
       "      <th>0</th>\n",
       "      <td>115115</td>\n",
       "      <td>8</td>\n",
       "      <td>1</td>\n",
       "      <td>13</td>\n",
       "      <td>145</td>\n",
       "      <td>2017-11-06 16:07:47</td>\n",
       "      <td>NaN</td>\n",
       "      <td>0</td>\n",
       "    </tr>\n",
       "    <tr>\n",
       "      <th>1</th>\n",
       "      <td>21633</td>\n",
       "      <td>1</td>\n",
       "      <td>1</td>\n",
       "      <td>19</td>\n",
       "      <td>178</td>\n",
       "      <td>2017-11-06 16:07:47</td>\n",
       "      <td>NaN</td>\n",
       "      <td>0</td>\n",
       "    </tr>\n",
       "    <tr>\n",
       "      <th>2</th>\n",
       "      <td>144498</td>\n",
       "      <td>12</td>\n",
       "      <td>1</td>\n",
       "      <td>17</td>\n",
       "      <td>178</td>\n",
       "      <td>2017-11-06 16:07:47</td>\n",
       "      <td>NaN</td>\n",
       "      <td>0</td>\n",
       "    </tr>\n",
       "    <tr>\n",
       "      <th>3</th>\n",
       "      <td>76919</td>\n",
       "      <td>2</td>\n",
       "      <td>1</td>\n",
       "      <td>6</td>\n",
       "      <td>237</td>\n",
       "      <td>2017-11-06 16:07:47</td>\n",
       "      <td>NaN</td>\n",
       "      <td>0</td>\n",
       "    </tr>\n",
       "    <tr>\n",
       "      <th>4</th>\n",
       "      <td>1556</td>\n",
       "      <td>15</td>\n",
       "      <td>1</td>\n",
       "      <td>13</td>\n",
       "      <td>245</td>\n",
       "      <td>2017-11-06 16:07:47</td>\n",
       "      <td>NaN</td>\n",
       "      <td>0</td>\n",
       "    </tr>\n",
       "    <tr>\n",
       "      <th>5</th>\n",
       "      <td>67467</td>\n",
       "      <td>15</td>\n",
       "      <td>1</td>\n",
       "      <td>37</td>\n",
       "      <td>245</td>\n",
       "      <td>2017-11-06 16:07:47</td>\n",
       "      <td>NaN</td>\n",
       "      <td>0</td>\n",
       "    </tr>\n",
       "    <tr>\n",
       "      <th>6</th>\n",
       "      <td>20266</td>\n",
       "      <td>64</td>\n",
       "      <td>1</td>\n",
       "      <td>19</td>\n",
       "      <td>459</td>\n",
       "      <td>2017-11-06 16:07:47</td>\n",
       "      <td>NaN</td>\n",
       "      <td>0</td>\n",
       "    </tr>\n",
       "    <tr>\n",
       "      <th>7</th>\n",
       "      <td>31564</td>\n",
       "      <td>15</td>\n",
       "      <td>1</td>\n",
       "      <td>19</td>\n",
       "      <td>265</td>\n",
       "      <td>2017-11-06 16:07:47</td>\n",
       "      <td>NaN</td>\n",
       "      <td>0</td>\n",
       "    </tr>\n",
       "    <tr>\n",
       "      <th>8</th>\n",
       "      <td>1732</td>\n",
       "      <td>9</td>\n",
       "      <td>1</td>\n",
       "      <td>13</td>\n",
       "      <td>134</td>\n",
       "      <td>2017-11-06 16:07:47</td>\n",
       "      <td>NaN</td>\n",
       "      <td>0</td>\n",
       "    </tr>\n",
       "    <tr>\n",
       "      <th>9</th>\n",
       "      <td>111114</td>\n",
       "      <td>15</td>\n",
       "      <td>1</td>\n",
       "      <td>13</td>\n",
       "      <td>245</td>\n",
       "      <td>2017-11-06 16:07:47</td>\n",
       "      <td>NaN</td>\n",
       "      <td>0</td>\n",
       "    </tr>\n",
       "    <tr>\n",
       "      <th>10</th>\n",
       "      <td>121472</td>\n",
       "      <td>9</td>\n",
       "      <td>1</td>\n",
       "      <td>8</td>\n",
       "      <td>215</td>\n",
       "      <td>2017-11-06 16:07:47</td>\n",
       "      <td>NaN</td>\n",
       "      <td>0</td>\n",
       "    </tr>\n",
       "    <tr>\n",
       "      <th>11</th>\n",
       "      <td>95559</td>\n",
       "      <td>6</td>\n",
       "      <td>1</td>\n",
       "      <td>35</td>\n",
       "      <td>125</td>\n",
       "      <td>2017-11-06 16:07:47</td>\n",
       "      <td>NaN</td>\n",
       "      <td>0</td>\n",
       "    </tr>\n",
       "    <tr>\n",
       "      <th>12</th>\n",
       "      <td>111182</td>\n",
       "      <td>19</td>\n",
       "      <td>7</td>\n",
       "      <td>21</td>\n",
       "      <td>213</td>\n",
       "      <td>2017-11-06 16:07:47</td>\n",
       "      <td>2017-11-06 17:29:34</td>\n",
       "      <td>1</td>\n",
       "    </tr>\n",
       "    <tr>\n",
       "      <th>13</th>\n",
       "      <td>92431</td>\n",
       "      <td>11</td>\n",
       "      <td>1</td>\n",
       "      <td>13</td>\n",
       "      <td>319</td>\n",
       "      <td>2017-11-06 16:07:47</td>\n",
       "      <td>NaN</td>\n",
       "      <td>0</td>\n",
       "    </tr>\n",
       "    <tr>\n",
       "      <th>14</th>\n",
       "      <td>68550</td>\n",
       "      <td>26</td>\n",
       "      <td>1</td>\n",
       "      <td>19</td>\n",
       "      <td>121</td>\n",
       "      <td>2017-11-06 16:07:47</td>\n",
       "      <td>NaN</td>\n",
       "      <td>0</td>\n",
       "    </tr>\n",
       "    <tr>\n",
       "      <th>15</th>\n",
       "      <td>38692</td>\n",
       "      <td>12</td>\n",
       "      <td>1</td>\n",
       "      <td>17</td>\n",
       "      <td>328</td>\n",
       "      <td>2017-11-06 16:07:47</td>\n",
       "      <td>NaN</td>\n",
       "      <td>0</td>\n",
       "    </tr>\n",
       "    <tr>\n",
       "      <th>16</th>\n",
       "      <td>186002</td>\n",
       "      <td>3</td>\n",
       "      <td>1</td>\n",
       "      <td>19</td>\n",
       "      <td>280</td>\n",
       "      <td>2017-11-06 16:07:47</td>\n",
       "      <td>NaN</td>\n",
       "      <td>0</td>\n",
       "    </tr>\n",
       "    <tr>\n",
       "      <th>17</th>\n",
       "      <td>61664</td>\n",
       "      <td>9</td>\n",
       "      <td>1</td>\n",
       "      <td>13</td>\n",
       "      <td>134</td>\n",
       "      <td>2017-11-06 16:07:47</td>\n",
       "      <td>NaN</td>\n",
       "      <td>0</td>\n",
       "    </tr>\n",
       "    <tr>\n",
       "      <th>18</th>\n",
       "      <td>24700</td>\n",
       "      <td>15</td>\n",
       "      <td>2</td>\n",
       "      <td>22</td>\n",
       "      <td>3</td>\n",
       "      <td>2017-11-06 16:07:47</td>\n",
       "      <td>NaN</td>\n",
       "      <td>0</td>\n",
       "    </tr>\n",
       "    <tr>\n",
       "      <th>19</th>\n",
       "      <td>77943</td>\n",
       "      <td>12</td>\n",
       "      <td>1</td>\n",
       "      <td>32</td>\n",
       "      <td>265</td>\n",
       "      <td>2017-11-06 16:07:47</td>\n",
       "      <td>NaN</td>\n",
       "      <td>0</td>\n",
       "    </tr>\n",
       "  </tbody>\n",
       "</table>\n",
       "</div>"
      ],
      "text/plain": [
       "        ip  app  device  os  channel           click_time  \\\n",
       "0   115115    8       1  13      145  2017-11-06 16:07:47   \n",
       "1    21633    1       1  19      178  2017-11-06 16:07:47   \n",
       "2   144498   12       1  17      178  2017-11-06 16:07:47   \n",
       "3    76919    2       1   6      237  2017-11-06 16:07:47   \n",
       "4     1556   15       1  13      245  2017-11-06 16:07:47   \n",
       "5    67467   15       1  37      245  2017-11-06 16:07:47   \n",
       "6    20266   64       1  19      459  2017-11-06 16:07:47   \n",
       "7    31564   15       1  19      265  2017-11-06 16:07:47   \n",
       "8     1732    9       1  13      134  2017-11-06 16:07:47   \n",
       "9   111114   15       1  13      245  2017-11-06 16:07:47   \n",
       "10  121472    9       1   8      215  2017-11-06 16:07:47   \n",
       "11   95559    6       1  35      125  2017-11-06 16:07:47   \n",
       "12  111182   19       7  21      213  2017-11-06 16:07:47   \n",
       "13   92431   11       1  13      319  2017-11-06 16:07:47   \n",
       "14   68550   26       1  19      121  2017-11-06 16:07:47   \n",
       "15   38692   12       1  17      328  2017-11-06 16:07:47   \n",
       "16  186002    3       1  19      280  2017-11-06 16:07:47   \n",
       "17   61664    9       1  13      134  2017-11-06 16:07:47   \n",
       "18   24700   15       2  22        3  2017-11-06 16:07:47   \n",
       "19   77943   12       1  32      265  2017-11-06 16:07:47   \n",
       "\n",
       "        attributed_time  is_attributed  \n",
       "0                   NaN              0  \n",
       "1                   NaN              0  \n",
       "2                   NaN              0  \n",
       "3                   NaN              0  \n",
       "4                   NaN              0  \n",
       "5                   NaN              0  \n",
       "6                   NaN              0  \n",
       "7                   NaN              0  \n",
       "8                   NaN              0  \n",
       "9                   NaN              0  \n",
       "10                  NaN              0  \n",
       "11                  NaN              0  \n",
       "12  2017-11-06 17:29:34              1  \n",
       "13                  NaN              0  \n",
       "14                  NaN              0  \n",
       "15                  NaN              0  \n",
       "16                  NaN              0  \n",
       "17                  NaN              0  \n",
       "18                  NaN              0  \n",
       "19                  NaN              0  "
      ]
     },
     "execution_count": 26,
     "metadata": {},
     "output_type": "execute_result"
    }
   ],
   "source": [
    "df_test.head(20)"
   ]
  },
  {
   "cell_type": "code",
   "execution_count": 27,
   "metadata": {},
   "outputs": [
    {
     "data": {
      "text/plain": [
       "0    199644\n",
       "1       356\n",
       "Name: is_attributed, dtype: int64"
      ]
     },
     "execution_count": 27,
     "metadata": {},
     "output_type": "execute_result"
    }
   ],
   "source": [
    "df_test[\"is_attributed\"].value_counts()"
   ]
  },
  {
   "cell_type": "code",
   "execution_count": 28,
   "metadata": {
    "collapsed": true
   },
   "outputs": [],
   "source": [
    "X_train = df_train.loc[:,[\"ip\",\"app\",\"device\",\"os\",\"channel\"]]\n",
    "X_test = df_test.loc[:,[\"ip\",\"app\",\"device\",\"os\",\"channel\"]]"
   ]
  },
  {
   "cell_type": "code",
   "execution_count": 29,
   "metadata": {
    "collapsed": true
   },
   "outputs": [],
   "source": [
    "X_train=X_train.values\n",
    "X_test= X_test.values"
   ]
  },
  {
   "cell_type": "code",
   "execution_count": 30,
   "metadata": {},
   "outputs": [
    {
     "data": {
      "text/plain": [
       "(200000, 5)"
      ]
     },
     "execution_count": 30,
     "metadata": {},
     "output_type": "execute_result"
    }
   ],
   "source": [
    "X_train.shape"
   ]
  },
  {
   "cell_type": "code",
   "execution_count": 31,
   "metadata": {},
   "outputs": [
    {
     "data": {
      "text/plain": [
       "(200000, 5)"
      ]
     },
     "execution_count": 31,
     "metadata": {},
     "output_type": "execute_result"
    }
   ],
   "source": [
    "X_test.shape"
   ]
  },
  {
   "cell_type": "code",
   "execution_count": 32,
   "metadata": {},
   "outputs": [
    {
     "data": {
      "text/plain": [
       "array([83230,     3,     1,    13,   379])"
      ]
     },
     "execution_count": 32,
     "metadata": {},
     "output_type": "execute_result"
    }
   ],
   "source": [
    "X_train[0]"
   ]
  },
  {
   "cell_type": "code",
   "execution_count": 33,
   "metadata": {},
   "outputs": [
    {
     "data": {
      "text/plain": [
       "array([115115,      8,      1,     13,    145])"
      ]
     },
     "execution_count": 33,
     "metadata": {},
     "output_type": "execute_result"
    }
   ],
   "source": [
    "X_test[0]"
   ]
  },
  {
   "cell_type": "code",
   "execution_count": 34,
   "metadata": {
    "collapsed": true
   },
   "outputs": [],
   "source": [
    "y_train = df_train[\"is_attributed\"]"
   ]
  },
  {
   "cell_type": "code",
   "execution_count": 35,
   "metadata": {
    "collapsed": true
   },
   "outputs": [],
   "source": [
    "y_train = y_train.values"
   ]
  },
  {
   "cell_type": "code",
   "execution_count": 36,
   "metadata": {
    "collapsed": true
   },
   "outputs": [],
   "source": [
    "y_test =df_test[\"is_attributed\"]"
   ]
  },
  {
   "cell_type": "code",
   "execution_count": 37,
   "metadata": {
    "collapsed": true
   },
   "outputs": [],
   "source": [
    "y_test= y_test.values"
   ]
  },
  {
   "cell_type": "code",
   "execution_count": 38,
   "metadata": {
    "collapsed": true
   },
   "outputs": [],
   "source": [
    "n_classes = 2\n",
    "y_train = keras.utils.to_categorical(y_train, n_classes)\n",
    "y_test = keras.utils.to_categorical(y_test, n_classes)"
   ]
  },
  {
   "cell_type": "code",
   "execution_count": 39,
   "metadata": {},
   "outputs": [
    {
     "data": {
      "text/plain": [
       "array([[1., 0.],\n",
       "       [1., 0.],\n",
       "       [1., 0.],\n",
       "       [1., 0.],\n",
       "       [1., 0.]], dtype=float32)"
      ]
     },
     "execution_count": 39,
     "metadata": {},
     "output_type": "execute_result"
    }
   ],
   "source": [
    "y_train[0:5]"
   ]
  },
  {
   "cell_type": "code",
   "execution_count": 40,
   "metadata": {
    "collapsed": true
   },
   "outputs": [],
   "source": [
    "def shallow_net_A(n=55,i=5,o=2):\n",
    "    # create simple one dense layer net\n",
    "    # default 55 neurons, input 5, output 2\n",
    "    net = Sequential()\n",
    "    net.add(Dense(n, activation='sigmoid', input_shape=(i,)))\n",
    "    net.add(Dense(2, activation='softmax'))\n",
    "    # Compile net\n",
    "    net.compile(loss='mean_squared_error', optimizer=SGD(lr=0.01), metrics=['accuracy'])\n",
    "    return net"
   ]
  },
  {
   "cell_type": "code",
   "execution_count": 41,
   "metadata": {
    "collapsed": true
   },
   "outputs": [],
   "source": [
    "nn=shallow_net_A()"
   ]
  },
  {
   "cell_type": "code",
   "execution_count": 42,
   "metadata": {},
   "outputs": [
    {
     "name": "stdout",
     "output_type": "stream",
     "text": [
      "_________________________________________________________________\n",
      "Layer (type)                 Output Shape              Param #   \n",
      "=================================================================\n",
      "dense_1 (Dense)              (None, 55)                330       \n",
      "_________________________________________________________________\n",
      "dense_2 (Dense)              (None, 2)                 112       \n",
      "=================================================================\n",
      "Total params: 442\n",
      "Trainable params: 442\n",
      "Non-trainable params: 0\n",
      "_________________________________________________________________\n"
     ]
    }
   ],
   "source": [
    "nn.summary()"
   ]
  },
  {
   "cell_type": "code",
   "execution_count": 43,
   "metadata": {},
   "outputs": [
    {
     "data": {
      "text/plain": [
       "array([83230,     3,     1,    13,   379])"
      ]
     },
     "execution_count": 43,
     "metadata": {},
     "output_type": "execute_result"
    }
   ],
   "source": [
    "X_train[0]"
   ]
  },
  {
   "cell_type": "code",
   "execution_count": 44,
   "metadata": {},
   "outputs": [
    {
     "name": "stdout",
     "output_type": "stream",
     "text": [
      "Train on 200000 samples, validate on 200000 samples\n",
      "Epoch 1/99\n",
      "200000/200000 [==============================] - 3s 13us/step - loss: 0.0034 - acc: 0.9982 - val_loss: 0.0020 - val_acc: 0.9983\n",
      "Epoch 2/99\n",
      "200000/200000 [==============================] - 2s 11us/step - loss: 0.0019 - acc: 0.9983 - val_loss: 0.0019 - val_acc: 0.9983\n",
      "Epoch 3/99\n",
      "200000/200000 [==============================] - 2s 11us/step - loss: 0.0018 - acc: 0.9983 - val_loss: 0.0018 - val_acc: 0.9983\n",
      "Epoch 4/99\n",
      "200000/200000 [==============================] - 3s 13us/step - loss: 0.0018 - acc: 0.9983 - val_loss: 0.0018 - val_acc: 0.9983\n",
      "Epoch 5/99\n",
      "200000/200000 [==============================] - 3s 14us/step - loss: 0.0018 - acc: 0.9983 - val_loss: 0.0018 - val_acc: 0.9983\n",
      "Epoch 6/99\n",
      "200000/200000 [==============================] - 3s 15us/step - loss: 0.0018 - acc: 0.9983 - val_loss: 0.0018 - val_acc: 0.9983\n",
      "Epoch 7/99\n",
      "200000/200000 [==============================] - 3s 14us/step - loss: 0.0018 - acc: 0.9983 - val_loss: 0.0018 - val_acc: 0.9983\n",
      "Epoch 8/99\n",
      "200000/200000 [==============================] - 2s 11us/step - loss: 0.0018 - acc: 0.9983 - val_loss: 0.0018 - val_acc: 0.9983\n",
      "Epoch 9/99\n",
      "200000/200000 [==============================] - 2s 11us/step - loss: 0.0018 - acc: 0.9983 - val_loss: 0.0018 - val_acc: 0.9983\n",
      "Epoch 10/99\n",
      "200000/200000 [==============================] - 2s 12us/step - loss: 0.0018 - acc: 0.9983 - val_loss: 0.0018 - val_acc: 0.9983\n",
      "Epoch 11/99\n",
      "200000/200000 [==============================] - 2s 12us/step - loss: 0.0018 - acc: 0.9983 - val_loss: 0.0018 - val_acc: 0.9983\n",
      "Epoch 12/99\n",
      "200000/200000 [==============================] - 2s 10us/step - loss: 0.0018 - acc: 0.9983 - val_loss: 0.0018 - val_acc: 0.9983\n",
      "Epoch 13/99\n",
      "200000/200000 [==============================] - 2s 12us/step - loss: 0.0018 - acc: 0.9983 - val_loss: 0.0018 - val_acc: 0.9983\n",
      "Epoch 14/99\n",
      "200000/200000 [==============================] - 2s 10us/step - loss: 0.0018 - acc: 0.9983 - val_loss: 0.0018 - val_acc: 0.9983\n",
      "Epoch 15/99\n",
      "200000/200000 [==============================] - 2s 10us/step - loss: 0.0018 - acc: 0.9983 - val_loss: 0.0018 - val_acc: 0.9983\n",
      "Epoch 16/99\n",
      "200000/200000 [==============================] - 2s 11us/step - loss: 0.0018 - acc: 0.9983 - val_loss: 0.0018 - val_acc: 0.9983\n",
      "Epoch 17/99\n",
      "200000/200000 [==============================] - 2s 10us/step - loss: 0.0018 - acc: 0.9983 - val_loss: 0.0018 - val_acc: 0.9983\n",
      "Epoch 18/99\n",
      "200000/200000 [==============================] - 2s 11us/step - loss: 0.0017 - acc: 0.9983 - val_loss: 0.0017 - val_acc: 0.9983\n",
      "Epoch 19/99\n",
      "200000/200000 [==============================] - 2s 9us/step - loss: 0.0017 - acc: 0.9983 - val_loss: 0.0017 - val_acc: 0.9983\n",
      "Epoch 20/99\n",
      "200000/200000 [==============================] - 2s 9us/step - loss: 0.0017 - acc: 0.9983 - val_loss: 0.0017 - val_acc: 0.9983\n",
      "Epoch 21/99\n",
      "200000/200000 [==============================] - 2s 9us/step - loss: 0.0017 - acc: 0.9983 - val_loss: 0.0017 - val_acc: 0.9983\n",
      "Epoch 22/99\n",
      "200000/200000 [==============================] - 2s 9us/step - loss: 0.0017 - acc: 0.9983 - val_loss: 0.0017 - val_acc: 0.9983\n",
      "Epoch 23/99\n",
      "200000/200000 [==============================] - 2s 9us/step - loss: 0.0017 - acc: 0.9983 - val_loss: 0.0017 - val_acc: 0.9983\n",
      "Epoch 24/99\n",
      "200000/200000 [==============================] - 2s 9us/step - loss: 0.0017 - acc: 0.9983 - val_loss: 0.0017 - val_acc: 0.9983\n",
      "Epoch 25/99\n",
      "200000/200000 [==============================] - 2s 9us/step - loss: 0.0017 - acc: 0.9983 - val_loss: 0.0017 - val_acc: 0.9983\n",
      "Epoch 26/99\n",
      "200000/200000 [==============================] - 2s 9us/step - loss: 0.0017 - acc: 0.9983 - val_loss: 0.0017 - val_acc: 0.9983\n",
      "Epoch 27/99\n",
      "200000/200000 [==============================] - 2s 9us/step - loss: 0.0017 - acc: 0.9983 - val_loss: 0.0017 - val_acc: 0.9983\n",
      "Epoch 28/99\n",
      "200000/200000 [==============================] - 2s 9us/step - loss: 0.0017 - acc: 0.9983 - val_loss: 0.0017 - val_acc: 0.9983\n",
      "Epoch 29/99\n",
      "200000/200000 [==============================] - 2s 9us/step - loss: 0.0017 - acc: 0.9983 - val_loss: 0.0017 - val_acc: 0.9983\n",
      "Epoch 30/99\n",
      "200000/200000 [==============================] - 2s 9us/step - loss: 0.0017 - acc: 0.9983 - val_loss: 0.0017 - val_acc: 0.9983\n",
      "Epoch 31/99\n",
      "200000/200000 [==============================] - 2s 9us/step - loss: 0.0017 - acc: 0.9983 - val_loss: 0.0017 - val_acc: 0.9983\n",
      "Epoch 32/99\n",
      "200000/200000 [==============================] - 2s 9us/step - loss: 0.0017 - acc: 0.9983 - val_loss: 0.0017 - val_acc: 0.9983\n",
      "Epoch 33/99\n",
      "200000/200000 [==============================] - 2s 9us/step - loss: 0.0017 - acc: 0.9983 - val_loss: 0.0017 - val_acc: 0.9983\n",
      "Epoch 34/99\n",
      "200000/200000 [==============================] - 2s 9us/step - loss: 0.0017 - acc: 0.9983 - val_loss: 0.0017 - val_acc: 0.9983\n",
      "Epoch 35/99\n",
      "200000/200000 [==============================] - 2s 9us/step - loss: 0.0017 - acc: 0.9983 - val_loss: 0.0017 - val_acc: 0.9983\n",
      "Epoch 36/99\n",
      "200000/200000 [==============================] - 2s 9us/step - loss: 0.0017 - acc: 0.9983 - val_loss: 0.0017 - val_acc: 0.9983\n",
      "Epoch 37/99\n",
      "200000/200000 [==============================] - 2s 9us/step - loss: 0.0017 - acc: 0.9983 - val_loss: 0.0017 - val_acc: 0.9983\n",
      "Epoch 38/99\n",
      "200000/200000 [==============================] - 2s 9us/step - loss: 0.0017 - acc: 0.9983 - val_loss: 0.0017 - val_acc: 0.9983\n",
      "Epoch 39/99\n",
      "200000/200000 [==============================] - 2s 10us/step - loss: 0.0017 - acc: 0.9983 - val_loss: 0.0017 - val_acc: 0.9983\n",
      "Epoch 40/99\n",
      "200000/200000 [==============================] - 2s 9us/step - loss: 0.0017 - acc: 0.9983 - val_loss: 0.0017 - val_acc: 0.9983\n",
      "Epoch 41/99\n",
      "200000/200000 [==============================] - 2s 9us/step - loss: 0.0017 - acc: 0.9983 - val_loss: 0.0017 - val_acc: 0.9983\n",
      "Epoch 42/99\n",
      "200000/200000 [==============================] - 2s 9us/step - loss: 0.0017 - acc: 0.9983 - val_loss: 0.0017 - val_acc: 0.9983\n",
      "Epoch 43/99\n",
      "200000/200000 [==============================] - 2s 9us/step - loss: 0.0017 - acc: 0.9983 - val_loss: 0.0017 - val_acc: 0.9983\n",
      "Epoch 44/99\n",
      "200000/200000 [==============================] - 2s 9us/step - loss: 0.0017 - acc: 0.9983 - val_loss: 0.0017 - val_acc: 0.9983\n",
      "Epoch 45/99\n",
      "200000/200000 [==============================] - 2s 10us/step - loss: 0.0017 - acc: 0.9983 - val_loss: 0.0017 - val_acc: 0.9983\n",
      "Epoch 46/99\n",
      "200000/200000 [==============================] - 2s 9us/step - loss: 0.0017 - acc: 0.9983 - val_loss: 0.0017 - val_acc: 0.9983\n",
      "Epoch 47/99\n",
      "200000/200000 [==============================] - 2s 9us/step - loss: 0.0017 - acc: 0.9983 - val_loss: 0.0017 - val_acc: 0.9983\n",
      "Epoch 48/99\n",
      "200000/200000 [==============================] - 2s 9us/step - loss: 0.0017 - acc: 0.9983 - val_loss: 0.0017 - val_acc: 0.9983\n",
      "Epoch 49/99\n",
      "200000/200000 [==============================] - 2s 9us/step - loss: 0.0017 - acc: 0.9983 - val_loss: 0.0017 - val_acc: 0.9983\n",
      "Epoch 50/99\n",
      "200000/200000 [==============================] - 2s 9us/step - loss: 0.0017 - acc: 0.9983 - val_loss: 0.0017 - val_acc: 0.9983\n",
      "Epoch 51/99\n",
      "200000/200000 [==============================] - 2s 9us/step - loss: 0.0017 - acc: 0.9983 - val_loss: 0.0017 - val_acc: 0.9983\n",
      "Epoch 52/99\n",
      "200000/200000 [==============================] - 2s 9us/step - loss: 0.0017 - acc: 0.9983 - val_loss: 0.0017 - val_acc: 0.9983\n",
      "Epoch 53/99\n",
      "200000/200000 [==============================] - 2s 9us/step - loss: 0.0017 - acc: 0.9983 - val_loss: 0.0017 - val_acc: 0.9983\n",
      "Epoch 54/99\n",
      "200000/200000 [==============================] - 2s 9us/step - loss: 0.0017 - acc: 0.9983 - val_loss: 0.0017 - val_acc: 0.9983\n",
      "Epoch 55/99\n",
      "200000/200000 [==============================] - 2s 9us/step - loss: 0.0017 - acc: 0.9983 - val_loss: 0.0017 - val_acc: 0.9983\n",
      "Epoch 56/99\n",
      "200000/200000 [==============================] - 2s 9us/step - loss: 0.0017 - acc: 0.9983 - val_loss: 0.0017 - val_acc: 0.9983\n",
      "Epoch 57/99\n",
      "200000/200000 [==============================] - 2s 9us/step - loss: 0.0017 - acc: 0.9983 - val_loss: 0.0017 - val_acc: 0.9983\n",
      "Epoch 58/99\n",
      "200000/200000 [==============================] - 2s 9us/step - loss: 0.0017 - acc: 0.9983 - val_loss: 0.0017 - val_acc: 0.9983\n",
      "Epoch 59/99\n",
      "200000/200000 [==============================] - 2s 9us/step - loss: 0.0017 - acc: 0.9983 - val_loss: 0.0017 - val_acc: 0.9983\n",
      "Epoch 60/99\n",
      "200000/200000 [==============================] - 2s 9us/step - loss: 0.0017 - acc: 0.9983 - val_loss: 0.0017 - val_acc: 0.9983\n",
      "Epoch 61/99\n",
      "200000/200000 [==============================] - 2s 11us/step - loss: 0.0017 - acc: 0.9983 - val_loss: 0.0017 - val_acc: 0.9983\n",
      "Epoch 62/99\n",
      "200000/200000 [==============================] - 2s 9us/step - loss: 0.0017 - acc: 0.9983 - val_loss: 0.0017 - val_acc: 0.9983\n",
      "Epoch 63/99\n",
      "200000/200000 [==============================] - 2s 9us/step - loss: 0.0017 - acc: 0.9983 - val_loss: 0.0017 - val_acc: 0.9983\n",
      "Epoch 64/99\n",
      "200000/200000 [==============================] - 2s 9us/step - loss: 0.0017 - acc: 0.9983 - val_loss: 0.0017 - val_acc: 0.9983\n",
      "Epoch 65/99\n",
      "200000/200000 [==============================] - 2s 9us/step - loss: 0.0017 - acc: 0.9983 - val_loss: 0.0017 - val_acc: 0.9983\n",
      "Epoch 66/99\n",
      "200000/200000 [==============================] - 2s 9us/step - loss: 0.0017 - acc: 0.9983 - val_loss: 0.0017 - val_acc: 0.9983\n",
      "Epoch 67/99\n",
      "200000/200000 [==============================] - 2s 9us/step - loss: 0.0017 - acc: 0.9983 - val_loss: 0.0017 - val_acc: 0.9983\n",
      "Epoch 68/99\n",
      "200000/200000 [==============================] - 2s 9us/step - loss: 0.0017 - acc: 0.9983 - val_loss: 0.0017 - val_acc: 0.9983\n",
      "Epoch 69/99\n",
      "200000/200000 [==============================] - 2s 9us/step - loss: 0.0017 - acc: 0.9983 - val_loss: 0.0017 - val_acc: 0.9983\n",
      "Epoch 70/99\n",
      "200000/200000 [==============================] - 2s 9us/step - loss: 0.0017 - acc: 0.9983 - val_loss: 0.0017 - val_acc: 0.9983\n",
      "Epoch 71/99\n",
      "200000/200000 [==============================] - 2s 9us/step - loss: 0.0017 - acc: 0.9983 - val_loss: 0.0017 - val_acc: 0.9983\n",
      "Epoch 72/99\n",
      "200000/200000 [==============================] - 2s 9us/step - loss: 0.0017 - acc: 0.9983 - val_loss: 0.0017 - val_acc: 0.9983\n",
      "Epoch 73/99\n",
      "200000/200000 [==============================] - 2s 9us/step - loss: 0.0017 - acc: 0.9983 - val_loss: 0.0017 - val_acc: 0.9983\n",
      "Epoch 74/99\n",
      "200000/200000 [==============================] - 2s 9us/step - loss: 0.0017 - acc: 0.9983 - val_loss: 0.0017 - val_acc: 0.9983\n",
      "Epoch 75/99\n",
      "200000/200000 [==============================] - 2s 9us/step - loss: 0.0017 - acc: 0.9983 - val_loss: 0.0017 - val_acc: 0.9983\n",
      "Epoch 76/99\n",
      "200000/200000 [==============================] - 2s 9us/step - loss: 0.0017 - acc: 0.9983 - val_loss: 0.0017 - val_acc: 0.9983\n",
      "Epoch 77/99\n",
      "200000/200000 [==============================] - 2s 9us/step - loss: 0.0017 - acc: 0.9983 - val_loss: 0.0017 - val_acc: 0.9983\n",
      "Epoch 78/99\n",
      "200000/200000 [==============================] - 2s 9us/step - loss: 0.0017 - acc: 0.9983 - val_loss: 0.0017 - val_acc: 0.9983\n",
      "Epoch 79/99\n",
      "200000/200000 [==============================] - 2s 10us/step - loss: 0.0017 - acc: 0.9983 - val_loss: 0.0017 - val_acc: 0.9983\n",
      "Epoch 80/99\n",
      "200000/200000 [==============================] - 2s 9us/step - loss: 0.0017 - acc: 0.9983 - val_loss: 0.0017 - val_acc: 0.9983\n",
      "Epoch 81/99\n",
      "200000/200000 [==============================] - 2s 9us/step - loss: 0.0017 - acc: 0.9983 - val_loss: 0.0017 - val_acc: 0.9983\n",
      "Epoch 82/99\n",
      "200000/200000 [==============================] - 2s 9us/step - loss: 0.0017 - acc: 0.9983 - val_loss: 0.0017 - val_acc: 0.9983\n",
      "Epoch 83/99\n",
      "200000/200000 [==============================] - 2s 9us/step - loss: 0.0017 - acc: 0.9983 - val_loss: 0.0017 - val_acc: 0.9983\n",
      "Epoch 84/99\n",
      "200000/200000 [==============================] - 2s 9us/step - loss: 0.0017 - acc: 0.9983 - val_loss: 0.0017 - val_acc: 0.9983\n",
      "Epoch 85/99\n",
      "200000/200000 [==============================] - 2s 10us/step - loss: 0.0017 - acc: 0.9983 - val_loss: 0.0017 - val_acc: 0.9983\n",
      "Epoch 86/99\n",
      "200000/200000 [==============================] - 2s 9us/step - loss: 0.0017 - acc: 0.9983 - val_loss: 0.0017 - val_acc: 0.9983\n",
      "Epoch 87/99\n",
      "200000/200000 [==============================] - 2s 9us/step - loss: 0.0017 - acc: 0.9983 - val_loss: 0.0017 - val_acc: 0.9983\n",
      "Epoch 88/99\n",
      "200000/200000 [==============================] - 2s 9us/step - loss: 0.0017 - acc: 0.9983 - val_loss: 0.0017 - val_acc: 0.9983\n",
      "Epoch 89/99\n",
      "200000/200000 [==============================] - 2s 10us/step - loss: 0.0017 - acc: 0.9983 - val_loss: 0.0017 - val_acc: 0.9983\n",
      "Epoch 90/99\n",
      "200000/200000 [==============================] - 2s 9us/step - loss: 0.0017 - acc: 0.9983 - val_loss: 0.0017 - val_acc: 0.9983\n",
      "Epoch 91/99\n",
      "200000/200000 [==============================] - 2s 9us/step - loss: 0.0017 - acc: 0.9983 - val_loss: 0.0017 - val_acc: 0.9983\n",
      "Epoch 92/99\n",
      "200000/200000 [==============================] - 2s 9us/step - loss: 0.0017 - acc: 0.9983 - val_loss: 0.0017 - val_acc: 0.9983\n",
      "Epoch 93/99\n",
      "200000/200000 [==============================] - 2s 9us/step - loss: 0.0017 - acc: 0.9983 - val_loss: 0.0017 - val_acc: 0.9983\n",
      "Epoch 94/99\n",
      "200000/200000 [==============================] - 2s 9us/step - loss: 0.0017 - acc: 0.9983 - val_loss: 0.0017 - val_acc: 0.9983\n",
      "Epoch 95/99\n",
      "200000/200000 [==============================] - 2s 9us/step - loss: 0.0017 - acc: 0.9983 - val_loss: 0.0017 - val_acc: 0.9983\n",
      "Epoch 96/99\n",
      "200000/200000 [==============================] - 2s 9us/step - loss: 0.0017 - acc: 0.9983 - val_loss: 0.0017 - val_acc: 0.9983\n",
      "Epoch 97/99\n",
      "200000/200000 [==============================] - 2s 9us/step - loss: 0.0017 - acc: 0.9983 - val_loss: 0.0017 - val_acc: 0.9983\n",
      "Epoch 98/99\n",
      "200000/200000 [==============================] - 2s 9us/step - loss: 0.0017 - acc: 0.9983 - val_loss: 0.0017 - val_acc: 0.9983\n",
      "Epoch 99/99\n",
      "200000/200000 [==============================] - 2s 9us/step - loss: 0.0017 - acc: 0.9983 - val_loss: 0.0017 - val_acc: 0.9983\n"
     ]
    },
    {
     "data": {
      "text/plain": [
       "<keras.callbacks.History at 0x108618a90>"
      ]
     },
     "execution_count": 44,
     "metadata": {},
     "output_type": "execute_result"
    }
   ],
   "source": [
    "nn.fit(X_train, y_train, batch_size=128, epochs=99, verbose=1, validation_data=(X_train, y_train))"
   ]
  },
  {
   "cell_type": "code",
   "execution_count": 45,
   "metadata": {},
   "outputs": [
    {
     "name": "stdout",
     "output_type": "stream",
     "text": [
      "200000/200000 [==============================] - 2s 10us/step\n"
     ]
    },
    {
     "data": {
      "text/plain": [
       "[0.001778513824111069, 0.99822]"
      ]
     },
     "execution_count": 45,
     "metadata": {},
     "output_type": "execute_result"
    }
   ],
   "source": [
    "# 99.83% accuracy after 99 epochs\n",
    "nn.evaluate(X_test,y_test)"
   ]
  },
  {
   "cell_type": "code",
   "execution_count": 46,
   "metadata": {},
   "outputs": [
    {
     "name": "stdout",
     "output_type": "stream",
     "text": [
      "Train on 200000 samples, validate on 200000 samples\n",
      "Epoch 1/99\n",
      "200000/200000 [==============================] - 2s 9us/step - loss: 0.0017 - acc: 0.9983 - val_loss: 0.0018 - val_acc: 0.9982\n",
      "Epoch 2/99\n",
      "200000/200000 [==============================] - 2s 9us/step - loss: 0.0017 - acc: 0.9983 - val_loss: 0.0018 - val_acc: 0.9982\n",
      "Epoch 3/99\n",
      "200000/200000 [==============================] - 2s 9us/step - loss: 0.0017 - acc: 0.9983 - val_loss: 0.0018 - val_acc: 0.9982\n",
      "Epoch 4/99\n",
      "200000/200000 [==============================] - 2s 9us/step - loss: 0.0017 - acc: 0.9983 - val_loss: 0.0018 - val_acc: 0.9982\n",
      "Epoch 5/99\n",
      "200000/200000 [==============================] - 2s 9us/step - loss: 0.0017 - acc: 0.9983 - val_loss: 0.0018 - val_acc: 0.9982\n",
      "Epoch 6/99\n",
      "200000/200000 [==============================] - 2s 9us/step - loss: 0.0017 - acc: 0.9983 - val_loss: 0.0018 - val_acc: 0.9982\n",
      "Epoch 7/99\n",
      "200000/200000 [==============================] - 2s 9us/step - loss: 0.0017 - acc: 0.9983 - val_loss: 0.0018 - val_acc: 0.9982\n",
      "Epoch 8/99\n",
      "200000/200000 [==============================] - 2s 9us/step - loss: 0.0017 - acc: 0.9983 - val_loss: 0.0018 - val_acc: 0.9982\n",
      "Epoch 9/99\n",
      "200000/200000 [==============================] - 2s 9us/step - loss: 0.0017 - acc: 0.9983 - val_loss: 0.0018 - val_acc: 0.9982\n",
      "Epoch 10/99\n",
      "200000/200000 [==============================] - 2s 9us/step - loss: 0.0017 - acc: 0.9983 - val_loss: 0.0018 - val_acc: 0.9982\n",
      "Epoch 11/99\n",
      "200000/200000 [==============================] - 2s 9us/step - loss: 0.0017 - acc: 0.9983 - val_loss: 0.0018 - val_acc: 0.9982\n",
      "Epoch 12/99\n",
      "200000/200000 [==============================] - 2s 9us/step - loss: 0.0017 - acc: 0.9983 - val_loss: 0.0018 - val_acc: 0.9982\n",
      "Epoch 13/99\n",
      "200000/200000 [==============================] - 2s 10us/step - loss: 0.0017 - acc: 0.9983 - val_loss: 0.0018 - val_acc: 0.9982\n",
      "Epoch 14/99\n",
      "200000/200000 [==============================] - 2s 12us/step - loss: 0.0017 - acc: 0.9983 - val_loss: 0.0018 - val_acc: 0.9982\n",
      "Epoch 15/99\n",
      "200000/200000 [==============================] - 3s 14us/step - loss: 0.0017 - acc: 0.9983 - val_loss: 0.0018 - val_acc: 0.9982\n",
      "Epoch 16/99\n",
      "200000/200000 [==============================] - 2s 12us/step - loss: 0.0017 - acc: 0.9983 - val_loss: 0.0018 - val_acc: 0.9982\n",
      "Epoch 17/99\n",
      "200000/200000 [==============================] - 2s 12us/step - loss: 0.0017 - acc: 0.9983 - val_loss: 0.0018 - val_acc: 0.9982\n",
      "Epoch 18/99\n",
      "200000/200000 [==============================] - 2s 11us/step - loss: 0.0017 - acc: 0.9983 - val_loss: 0.0018 - val_acc: 0.9982\n",
      "Epoch 19/99\n",
      "200000/200000 [==============================] - 2s 11us/step - loss: 0.0017 - acc: 0.9983 - val_loss: 0.0018 - val_acc: 0.9982\n",
      "Epoch 20/99\n",
      "200000/200000 [==============================] - 3s 14us/step - loss: 0.0017 - acc: 0.9983 - val_loss: 0.0018 - val_acc: 0.9982\n",
      "Epoch 21/99\n",
      "200000/200000 [==============================] - 3s 15us/step - loss: 0.0017 - acc: 0.9983 - val_loss: 0.0018 - val_acc: 0.9982\n",
      "Epoch 22/99\n",
      "200000/200000 [==============================] - 3s 14us/step - loss: 0.0017 - acc: 0.9983 - val_loss: 0.0018 - val_acc: 0.9982\n",
      "Epoch 23/99\n",
      "200000/200000 [==============================] - 3s 13us/step - loss: 0.0017 - acc: 0.9983 - val_loss: 0.0018 - val_acc: 0.9982\n",
      "Epoch 24/99\n",
      "200000/200000 [==============================] - 3s 14us/step - loss: 0.0017 - acc: 0.9983 - val_loss: 0.0018 - val_acc: 0.9982\n",
      "Epoch 25/99\n",
      "200000/200000 [==============================] - 4s 18us/step - loss: 0.0017 - acc: 0.9983 - val_loss: 0.0018 - val_acc: 0.9982\n",
      "Epoch 26/99\n",
      "200000/200000 [==============================] - 4s 18us/step - loss: 0.0017 - acc: 0.9983 - val_loss: 0.0018 - val_acc: 0.9982\n",
      "Epoch 27/99\n",
      "200000/200000 [==============================] - 4s 19us/step - loss: 0.0017 - acc: 0.9983 - val_loss: 0.0018 - val_acc: 0.9982\n",
      "Epoch 28/99\n",
      "200000/200000 [==============================] - 3s 16us/step - loss: 0.0017 - acc: 0.9983 - val_loss: 0.0018 - val_acc: 0.9982\n",
      "Epoch 29/99\n",
      "200000/200000 [==============================] - 3s 17us/step - loss: 0.0017 - acc: 0.9983 - val_loss: 0.0018 - val_acc: 0.9982\n",
      "Epoch 30/99\n",
      "200000/200000 [==============================] - 3s 16us/step - loss: 0.0017 - acc: 0.9983 - val_loss: 0.0018 - val_acc: 0.9982\n",
      "Epoch 31/99\n",
      "200000/200000 [==============================] - 3s 17us/step - loss: 0.0017 - acc: 0.9983 - val_loss: 0.0018 - val_acc: 0.9982\n",
      "Epoch 32/99\n",
      "200000/200000 [==============================] - 3s 17us/step - loss: 0.0017 - acc: 0.9983 - val_loss: 0.0018 - val_acc: 0.9982\n",
      "Epoch 33/99\n",
      "200000/200000 [==============================] - 3s 17us/step - loss: 0.0017 - acc: 0.9983 - val_loss: 0.0018 - val_acc: 0.9982\n",
      "Epoch 34/99\n",
      "200000/200000 [==============================] - 4s 18us/step - loss: 0.0017 - acc: 0.9983 - val_loss: 0.0018 - val_acc: 0.9982\n",
      "Epoch 35/99\n",
      "200000/200000 [==============================] - 3s 17us/step - loss: 0.0017 - acc: 0.9983 - val_loss: 0.0018 - val_acc: 0.9982\n",
      "Epoch 36/99\n",
      "200000/200000 [==============================] - 3s 16us/step - loss: 0.0017 - acc: 0.9983 - val_loss: 0.0018 - val_acc: 0.9982\n",
      "Epoch 37/99\n",
      "200000/200000 [==============================] - 3s 17us/step - loss: 0.0017 - acc: 0.9983 - val_loss: 0.0018 - val_acc: 0.9982\n",
      "Epoch 38/99\n",
      "200000/200000 [==============================] - 3s 16us/step - loss: 0.0017 - acc: 0.9983 - val_loss: 0.0018 - val_acc: 0.9982\n",
      "Epoch 39/99\n",
      "200000/200000 [==============================] - 3s 16us/step - loss: 0.0017 - acc: 0.9983 - val_loss: 0.0018 - val_acc: 0.9982\n",
      "Epoch 40/99\n",
      "200000/200000 [==============================] - 3s 17us/step - loss: 0.0017 - acc: 0.9983 - val_loss: 0.0018 - val_acc: 0.9982\n",
      "Epoch 41/99\n",
      "200000/200000 [==============================] - 3s 17us/step - loss: 0.0017 - acc: 0.9983 - val_loss: 0.0018 - val_acc: 0.9982\n",
      "Epoch 42/99\n",
      "200000/200000 [==============================] - 3s 17us/step - loss: 0.0017 - acc: 0.9983 - val_loss: 0.0018 - val_acc: 0.9982\n",
      "Epoch 43/99\n",
      "200000/200000 [==============================] - 4s 18us/step - loss: 0.0017 - acc: 0.9983 - val_loss: 0.0018 - val_acc: 0.9982\n",
      "Epoch 44/99\n",
      "200000/200000 [==============================] - 3s 17us/step - loss: 0.0017 - acc: 0.9983 - val_loss: 0.0018 - val_acc: 0.9982\n",
      "Epoch 45/99\n",
      "200000/200000 [==============================] - 3s 17us/step - loss: 0.0017 - acc: 0.9983 - val_loss: 0.0018 - val_acc: 0.9982\n",
      "Epoch 46/99\n",
      "200000/200000 [==============================] - 3s 17us/step - loss: 0.0017 - acc: 0.9983 - val_loss: 0.0018 - val_acc: 0.9982\n",
      "Epoch 47/99\n",
      "200000/200000 [==============================] - 3s 16us/step - loss: 0.0017 - acc: 0.9983 - val_loss: 0.0018 - val_acc: 0.9982\n",
      "Epoch 48/99\n",
      "200000/200000 [==============================] - 3s 15us/step - loss: 0.0017 - acc: 0.9983 - val_loss: 0.0018 - val_acc: 0.9982\n",
      "Epoch 49/99\n",
      "200000/200000 [==============================] - 3s 15us/step - loss: 0.0017 - acc: 0.9983 - val_loss: 0.0018 - val_acc: 0.9982\n",
      "Epoch 50/99\n",
      "200000/200000 [==============================] - 3s 16us/step - loss: 0.0017 - acc: 0.9983 - val_loss: 0.0018 - val_acc: 0.9982\n",
      "Epoch 51/99\n",
      "200000/200000 [==============================] - 3s 15us/step - loss: 0.0017 - acc: 0.9983 - val_loss: 0.0018 - val_acc: 0.9982\n",
      "Epoch 52/99\n",
      "200000/200000 [==============================] - 3s 15us/step - loss: 0.0017 - acc: 0.9983 - val_loss: 0.0018 - val_acc: 0.9982\n",
      "Epoch 53/99\n",
      "200000/200000 [==============================] - 3s 15us/step - loss: 0.0017 - acc: 0.9983 - val_loss: 0.0018 - val_acc: 0.9982\n",
      "Epoch 54/99\n",
      "200000/200000 [==============================] - 3s 15us/step - loss: 0.0017 - acc: 0.9983 - val_loss: 0.0018 - val_acc: 0.9982\n",
      "Epoch 55/99\n",
      "200000/200000 [==============================] - 3s 15us/step - loss: 0.0017 - acc: 0.9983 - val_loss: 0.0018 - val_acc: 0.9982\n",
      "Epoch 56/99\n",
      "200000/200000 [==============================] - 3s 14us/step - loss: 0.0017 - acc: 0.9983 - val_loss: 0.0018 - val_acc: 0.9982\n",
      "Epoch 57/99\n",
      "200000/200000 [==============================] - 3s 15us/step - loss: 0.0017 - acc: 0.9983 - val_loss: 0.0018 - val_acc: 0.9982\n",
      "Epoch 58/99\n",
      "200000/200000 [==============================] - 3s 15us/step - loss: 0.0017 - acc: 0.9983 - val_loss: 0.0018 - val_acc: 0.9982\n",
      "Epoch 59/99\n",
      "200000/200000 [==============================] - 2s 12us/step - loss: 0.0017 - acc: 0.9983 - val_loss: 0.0018 - val_acc: 0.9982\n",
      "Epoch 60/99\n",
      "200000/200000 [==============================] - 2s 12us/step - loss: 0.0017 - acc: 0.9983 - val_loss: 0.0018 - val_acc: 0.9982\n",
      "Epoch 61/99\n",
      "200000/200000 [==============================] - 2s 12us/step - loss: 0.0017 - acc: 0.9983 - val_loss: 0.0018 - val_acc: 0.9982\n",
      "Epoch 62/99\n",
      "200000/200000 [==============================] - 3s 14us/step - loss: 0.0017 - acc: 0.9983 - val_loss: 0.0018 - val_acc: 0.9982\n",
      "Epoch 63/99\n",
      "200000/200000 [==============================] - 3s 16us/step - loss: 0.0017 - acc: 0.9983 - val_loss: 0.0018 - val_acc: 0.9982\n",
      "Epoch 64/99\n",
      "200000/200000 [==============================] - 3s 15us/step - loss: 0.0017 - acc: 0.9983 - val_loss: 0.0018 - val_acc: 0.9982\n",
      "Epoch 65/99\n",
      "200000/200000 [==============================] - 3s 15us/step - loss: 0.0017 - acc: 0.9983 - val_loss: 0.0018 - val_acc: 0.9982\n",
      "Epoch 66/99\n",
      "200000/200000 [==============================] - 3s 15us/step - loss: 0.0017 - acc: 0.9983 - val_loss: 0.0018 - val_acc: 0.9982\n",
      "Epoch 67/99\n",
      "200000/200000 [==============================] - 3s 15us/step - loss: 0.0017 - acc: 0.9983 - val_loss: 0.0018 - val_acc: 0.9982\n",
      "Epoch 68/99\n",
      "200000/200000 [==============================] - 3s 15us/step - loss: 0.0017 - acc: 0.9983 - val_loss: 0.0018 - val_acc: 0.9982\n",
      "Epoch 69/99\n",
      "200000/200000 [==============================] - 3s 15us/step - loss: 0.0017 - acc: 0.9983 - val_loss: 0.0018 - val_acc: 0.9982\n",
      "Epoch 70/99\n",
      "200000/200000 [==============================] - 3s 16us/step - loss: 0.0017 - acc: 0.9983 - val_loss: 0.0018 - val_acc: 0.9982\n",
      "Epoch 71/99\n",
      "200000/200000 [==============================] - 3s 15us/step - loss: 0.0017 - acc: 0.9983 - val_loss: 0.0018 - val_acc: 0.9982\n",
      "Epoch 72/99\n",
      "200000/200000 [==============================] - 3s 14us/step - loss: 0.0017 - acc: 0.9983 - val_loss: 0.0018 - val_acc: 0.9982\n",
      "Epoch 73/99\n",
      "200000/200000 [==============================] - 3s 15us/step - loss: 0.0017 - acc: 0.9983 - val_loss: 0.0018 - val_acc: 0.9982\n",
      "Epoch 74/99\n",
      "200000/200000 [==============================] - 3s 15us/step - loss: 0.0017 - acc: 0.9983 - val_loss: 0.0018 - val_acc: 0.9982\n",
      "Epoch 75/99\n",
      "200000/200000 [==============================] - 3s 14us/step - loss: 0.0017 - acc: 0.9983 - val_loss: 0.0018 - val_acc: 0.9982\n",
      "Epoch 76/99\n",
      "200000/200000 [==============================] - 3s 15us/step - loss: 0.0017 - acc: 0.9983 - val_loss: 0.0018 - val_acc: 0.9982\n",
      "Epoch 77/99\n",
      "200000/200000 [==============================] - 3s 15us/step - loss: 0.0017 - acc: 0.9983 - val_loss: 0.0018 - val_acc: 0.9982\n",
      "Epoch 78/99\n",
      "200000/200000 [==============================] - 3s 15us/step - loss: 0.0017 - acc: 0.9983 - val_loss: 0.0018 - val_acc: 0.9982\n",
      "Epoch 79/99\n",
      "200000/200000 [==============================] - 3s 15us/step - loss: 0.0017 - acc: 0.9983 - val_loss: 0.0018 - val_acc: 0.9982\n",
      "Epoch 80/99\n",
      "200000/200000 [==============================] - 4s 19us/step - loss: 0.0017 - acc: 0.9983 - val_loss: 0.0018 - val_acc: 0.9982\n",
      "Epoch 81/99\n",
      "200000/200000 [==============================] - 3s 16us/step - loss: 0.0017 - acc: 0.9983 - val_loss: 0.0018 - val_acc: 0.9982\n",
      "Epoch 82/99\n",
      "200000/200000 [==============================] - 3s 15us/step - loss: 0.0017 - acc: 0.9983 - val_loss: 0.0018 - val_acc: 0.9982\n",
      "Epoch 83/99\n",
      "200000/200000 [==============================] - 3s 16us/step - loss: 0.0017 - acc: 0.9983 - val_loss: 0.0018 - val_acc: 0.9982\n",
      "Epoch 84/99\n",
      "200000/200000 [==============================] - 3s 15us/step - loss: 0.0017 - acc: 0.9983 - val_loss: 0.0018 - val_acc: 0.9982\n",
      "Epoch 85/99\n",
      "200000/200000 [==============================] - 3s 16us/step - loss: 0.0017 - acc: 0.9983 - val_loss: 0.0018 - val_acc: 0.9982\n",
      "Epoch 86/99\n",
      "200000/200000 [==============================] - 3s 17us/step - loss: 0.0017 - acc: 0.9983 - val_loss: 0.0018 - val_acc: 0.9982\n",
      "Epoch 87/99\n",
      "200000/200000 [==============================] - 3s 15us/step - loss: 0.0017 - acc: 0.9983 - val_loss: 0.0018 - val_acc: 0.9982\n",
      "Epoch 88/99\n",
      "200000/200000 [==============================] - 3s 16us/step - loss: 0.0017 - acc: 0.9983 - val_loss: 0.0018 - val_acc: 0.9982\n",
      "Epoch 89/99\n",
      "200000/200000 [==============================] - 3s 15us/step - loss: 0.0017 - acc: 0.9983 - val_loss: 0.0018 - val_acc: 0.9982\n",
      "Epoch 90/99\n",
      "200000/200000 [==============================] - 3s 15us/step - loss: 0.0017 - acc: 0.9983 - val_loss: 0.0018 - val_acc: 0.9982\n",
      "Epoch 91/99\n",
      "200000/200000 [==============================] - 3s 15us/step - loss: 0.0017 - acc: 0.9983 - val_loss: 0.0018 - val_acc: 0.9982\n",
      "Epoch 92/99\n",
      "200000/200000 [==============================] - 3s 15us/step - loss: 0.0017 - acc: 0.9983 - val_loss: 0.0018 - val_acc: 0.9982\n",
      "Epoch 93/99\n",
      "200000/200000 [==============================] - 3s 15us/step - loss: 0.0017 - acc: 0.9983 - val_loss: 0.0018 - val_acc: 0.9982\n",
      "Epoch 94/99\n",
      "200000/200000 [==============================] - 3s 16us/step - loss: 0.0017 - acc: 0.9983 - val_loss: 0.0018 - val_acc: 0.9982\n",
      "Epoch 95/99\n",
      "200000/200000 [==============================] - 3s 16us/step - loss: 0.0017 - acc: 0.9983 - val_loss: 0.0018 - val_acc: 0.9982\n",
      "Epoch 96/99\n",
      "200000/200000 [==============================] - 3s 16us/step - loss: 0.0017 - acc: 0.9983 - val_loss: 0.0018 - val_acc: 0.9982\n",
      "Epoch 97/99\n",
      "200000/200000 [==============================] - 3s 16us/step - loss: 0.0017 - acc: 0.9983 - val_loss: 0.0018 - val_acc: 0.9982\n",
      "Epoch 98/99\n",
      "200000/200000 [==============================] - 3s 16us/step - loss: 0.0017 - acc: 0.9983 - val_loss: 0.0018 - val_acc: 0.9982\n",
      "Epoch 99/99\n",
      "200000/200000 [==============================] - 3s 17us/step - loss: 0.0017 - acc: 0.9983 - val_loss: 0.0018 - val_acc: 0.9982\n"
     ]
    },
    {
     "data": {
      "text/plain": [
       "<keras.callbacks.History at 0x108603cf8>"
      ]
     },
     "execution_count": 46,
     "metadata": {},
     "output_type": "execute_result"
    }
   ],
   "source": [
    "# 99.82% accuracy after another 99 epochs\n",
    "nn.fit(X_train, y_train, batch_size=128, epochs=99, verbose=1, validation_data=(X_test, y_test))"
   ]
  },
  {
   "cell_type": "code",
   "execution_count": 47,
   "metadata": {
    "collapsed": true
   },
   "outputs": [],
   "source": [
    "def shallow_net_B(n=55,i=5,o=2):\n",
    "    # create simple one dense layer net\n",
    "    # default 55 neurons, input 5, output 2\n",
    "    # Using relu\n",
    "    net = Sequential()\n",
    "    net.add(Dense(n, activation='relu', input_shape=(i,)))\n",
    "    net.add(Dense(2, activation='softmax'))\n",
    "    # Compile net\n",
    "    net.compile(loss='mean_squared_error', optimizer=SGD(lr=0.01), metrics=['accuracy'])\n",
    "    return net"
   ]
  },
  {
   "cell_type": "code",
   "execution_count": 48,
   "metadata": {},
   "outputs": [
    {
     "name": "stdout",
     "output_type": "stream",
     "text": [
      "_________________________________________________________________\n",
      "Layer (type)                 Output Shape              Param #   \n",
      "=================================================================\n",
      "dense_3 (Dense)              (None, 55)                330       \n",
      "_________________________________________________________________\n",
      "dense_4 (Dense)              (None, 2)                 112       \n",
      "=================================================================\n",
      "Total params: 442\n",
      "Trainable params: 442\n",
      "Non-trainable params: 0\n",
      "_________________________________________________________________\n"
     ]
    }
   ],
   "source": [
    "nn2=shallow_net_B()\n",
    "nn2.summary()"
   ]
  },
  {
   "cell_type": "code",
   "execution_count": 49,
   "metadata": {},
   "outputs": [
    {
     "name": "stdout",
     "output_type": "stream",
     "text": [
      "Train on 200000 samples, validate on 200000 samples\n",
      "Epoch 1/99\n",
      "200000/200000 [==============================] - 3s 15us/step - loss: 0.9983 - acc: 0.0017 - val_loss: 0.9982 - val_acc: 0.0018\n",
      "Epoch 2/99\n",
      "200000/200000 [==============================] - 3s 15us/step - loss: 0.9983 - acc: 0.0017 - val_loss: 0.9982 - val_acc: 0.0018\n",
      "Epoch 3/99\n",
      "200000/200000 [==============================] - 3s 15us/step - loss: 0.9983 - acc: 0.0017 - val_loss: 0.9982 - val_acc: 0.0018\n",
      "Epoch 4/99\n",
      "200000/200000 [==============================] - 3s 14us/step - loss: 0.9983 - acc: 0.0017 - val_loss: 0.9982 - val_acc: 0.0018\n",
      "Epoch 5/99\n",
      "200000/200000 [==============================] - 3s 14us/step - loss: 0.9983 - acc: 0.0017 - val_loss: 0.9982 - val_acc: 0.0018\n",
      "Epoch 6/99\n",
      "200000/200000 [==============================] - 3s 15us/step - loss: 0.9983 - acc: 0.0017 - val_loss: 0.9982 - val_acc: 0.0018\n",
      "Epoch 7/99\n",
      "200000/200000 [==============================] - 3s 14us/step - loss: 0.9983 - acc: 0.0017 - val_loss: 0.9982 - val_acc: 0.0018\n",
      "Epoch 8/99\n",
      "200000/200000 [==============================] - 3s 15us/step - loss: 0.9983 - acc: 0.0017 - val_loss: 0.9982 - val_acc: 0.0018\n",
      "Epoch 9/99\n",
      "200000/200000 [==============================] - 3s 14us/step - loss: 0.9983 - acc: 0.0017 - val_loss: 0.9982 - val_acc: 0.0018\n",
      "Epoch 10/99\n",
      "200000/200000 [==============================] - 3s 15us/step - loss: 0.9983 - acc: 0.0017 - val_loss: 0.9982 - val_acc: 0.0018\n",
      "Epoch 11/99\n",
      "200000/200000 [==============================] - 3s 15us/step - loss: 0.9983 - acc: 0.0017 - val_loss: 0.9982 - val_acc: 0.0018\n",
      "Epoch 12/99\n",
      "200000/200000 [==============================] - 3s 15us/step - loss: 0.9983 - acc: 0.0017 - val_loss: 0.9982 - val_acc: 0.0018\n",
      "Epoch 13/99\n",
      "200000/200000 [==============================] - 3s 15us/step - loss: 0.9983 - acc: 0.0017 - val_loss: 0.9982 - val_acc: 0.0018\n",
      "Epoch 14/99\n",
      "200000/200000 [==============================] - 3s 15us/step - loss: 0.9983 - acc: 0.0017 - val_loss: 0.9982 - val_acc: 0.0018\n",
      "Epoch 15/99\n",
      "200000/200000 [==============================] - 3s 15us/step - loss: 0.9983 - acc: 0.0017 - val_loss: 0.9982 - val_acc: 0.0018\n",
      "Epoch 16/99\n",
      "200000/200000 [==============================] - 3s 14us/step - loss: 0.9983 - acc: 0.0017 - val_loss: 0.9982 - val_acc: 0.0018\n",
      "Epoch 17/99\n",
      "200000/200000 [==============================] - 3s 15us/step - loss: 0.9983 - acc: 0.0017 - val_loss: 0.9982 - val_acc: 0.0018\n",
      "Epoch 18/99\n",
      "200000/200000 [==============================] - 3s 15us/step - loss: 0.9983 - acc: 0.0017 - val_loss: 0.9982 - val_acc: 0.0018\n",
      "Epoch 19/99\n",
      "200000/200000 [==============================] - 3s 14us/step - loss: 0.9983 - acc: 0.0017 - val_loss: 0.9982 - val_acc: 0.0018\n",
      "Epoch 20/99\n",
      "200000/200000 [==============================] - 3s 14us/step - loss: 0.9983 - acc: 0.0017 - val_loss: 0.9982 - val_acc: 0.0018\n",
      "Epoch 21/99\n",
      "200000/200000 [==============================] - 3s 14us/step - loss: 0.9983 - acc: 0.0017 - val_loss: 0.9982 - val_acc: 0.0018\n",
      "Epoch 22/99\n",
      "200000/200000 [==============================] - 3s 15us/step - loss: 0.9983 - acc: 0.0017 - val_loss: 0.9982 - val_acc: 0.0018\n",
      "Epoch 23/99\n",
      "200000/200000 [==============================] - 3s 15us/step - loss: 0.9983 - acc: 0.0017 - val_loss: 0.9982 - val_acc: 0.0018\n",
      "Epoch 24/99\n",
      "200000/200000 [==============================] - 3s 15us/step - loss: 0.9983 - acc: 0.0017 - val_loss: 0.9982 - val_acc: 0.0018\n",
      "Epoch 25/99\n",
      "200000/200000 [==============================] - 3s 15us/step - loss: 0.9983 - acc: 0.0017 - val_loss: 0.9982 - val_acc: 0.0018\n",
      "Epoch 26/99\n",
      "200000/200000 [==============================] - 3s 15us/step - loss: 0.9983 - acc: 0.0017 - val_loss: 0.9982 - val_acc: 0.0018\n",
      "Epoch 27/99\n",
      "200000/200000 [==============================] - 3s 15us/step - loss: 0.9983 - acc: 0.0017 - val_loss: 0.9982 - val_acc: 0.0018\n",
      "Epoch 28/99\n",
      "200000/200000 [==============================] - 3s 14us/step - loss: 0.9983 - acc: 0.0017 - val_loss: 0.9982 - val_acc: 0.0018\n",
      "Epoch 29/99\n",
      "200000/200000 [==============================] - 3s 15us/step - loss: 0.9983 - acc: 0.0017 - val_loss: 0.9982 - val_acc: 0.0018\n",
      "Epoch 30/99\n",
      "200000/200000 [==============================] - 3s 14us/step - loss: 0.9983 - acc: 0.0017 - val_loss: 0.9982 - val_acc: 0.0018\n",
      "Epoch 31/99\n",
      "200000/200000 [==============================] - 3s 15us/step - loss: 0.9983 - acc: 0.0017 - val_loss: 0.9982 - val_acc: 0.0018\n",
      "Epoch 32/99\n",
      "200000/200000 [==============================] - 3s 14us/step - loss: 0.9983 - acc: 0.0017 - val_loss: 0.9982 - val_acc: 0.0018\n",
      "Epoch 33/99\n",
      "200000/200000 [==============================] - 3s 15us/step - loss: 0.9983 - acc: 0.0017 - val_loss: 0.9982 - val_acc: 0.0018\n",
      "Epoch 34/99\n",
      "200000/200000 [==============================] - 3s 15us/step - loss: 0.9983 - acc: 0.0017 - val_loss: 0.9982 - val_acc: 0.0018\n",
      "Epoch 35/99\n",
      "200000/200000 [==============================] - 3s 15us/step - loss: 0.9983 - acc: 0.0017 - val_loss: 0.9982 - val_acc: 0.0018\n",
      "Epoch 36/99\n",
      "200000/200000 [==============================] - 3s 15us/step - loss: 0.9983 - acc: 0.0017 - val_loss: 0.9982 - val_acc: 0.0018\n",
      "Epoch 37/99\n",
      "200000/200000 [==============================] - 3s 15us/step - loss: 0.9983 - acc: 0.0017 - val_loss: 0.9982 - val_acc: 0.0018\n",
      "Epoch 38/99\n",
      "200000/200000 [==============================] - 3s 15us/step - loss: 0.9983 - acc: 0.0017 - val_loss: 0.9982 - val_acc: 0.0018\n",
      "Epoch 39/99\n",
      "200000/200000 [==============================] - 3s 15us/step - loss: 0.9983 - acc: 0.0017 - val_loss: 0.9982 - val_acc: 0.0018\n",
      "Epoch 40/99\n",
      "200000/200000 [==============================] - 3s 15us/step - loss: 0.9983 - acc: 0.0017 - val_loss: 0.9982 - val_acc: 0.0018\n",
      "Epoch 41/99\n",
      "200000/200000 [==============================] - 3s 15us/step - loss: 0.9983 - acc: 0.0017 - val_loss: 0.9982 - val_acc: 0.0018\n",
      "Epoch 42/99\n",
      "200000/200000 [==============================] - 3s 16us/step - loss: 0.9983 - acc: 0.0017 - val_loss: 0.9982 - val_acc: 0.0018\n",
      "Epoch 43/99\n",
      "200000/200000 [==============================] - 3s 15us/step - loss: 0.9983 - acc: 0.0017 - val_loss: 0.9982 - val_acc: 0.0018\n",
      "Epoch 44/99\n",
      "200000/200000 [==============================] - 3s 15us/step - loss: 0.9983 - acc: 0.0017 - val_loss: 0.9982 - val_acc: 0.0018\n",
      "Epoch 45/99\n",
      "200000/200000 [==============================] - 3s 14us/step - loss: 0.9983 - acc: 0.0017 - val_loss: 0.9982 - val_acc: 0.0018\n",
      "Epoch 46/99\n",
      "200000/200000 [==============================] - 3s 15us/step - loss: 0.9983 - acc: 0.0017 - val_loss: 0.9982 - val_acc: 0.0018\n",
      "Epoch 47/99\n",
      "200000/200000 [==============================] - 3s 15us/step - loss: 0.9983 - acc: 0.0017 - val_loss: 0.9982 - val_acc: 0.0018\n",
      "Epoch 48/99\n",
      "200000/200000 [==============================] - 3s 15us/step - loss: 0.9983 - acc: 0.0017 - val_loss: 0.9982 - val_acc: 0.0018\n",
      "Epoch 49/99\n",
      "200000/200000 [==============================] - 3s 15us/step - loss: 0.9983 - acc: 0.0017 - val_loss: 0.9982 - val_acc: 0.0018\n",
      "Epoch 50/99\n",
      "200000/200000 [==============================] - 3s 15us/step - loss: 0.9983 - acc: 0.0017 - val_loss: 0.9982 - val_acc: 0.0018\n",
      "Epoch 51/99\n",
      "200000/200000 [==============================] - 3s 15us/step - loss: 0.9983 - acc: 0.0017 - val_loss: 0.9982 - val_acc: 0.0018\n",
      "Epoch 52/99\n",
      "200000/200000 [==============================] - 3s 15us/step - loss: 0.9983 - acc: 0.0017 - val_loss: 0.9982 - val_acc: 0.0018\n",
      "Epoch 53/99\n",
      "200000/200000 [==============================] - 3s 16us/step - loss: 0.9983 - acc: 0.0017 - val_loss: 0.9982 - val_acc: 0.0018\n",
      "Epoch 54/99\n",
      "200000/200000 [==============================] - 3s 15us/step - loss: 0.9983 - acc: 0.0017 - val_loss: 0.9982 - val_acc: 0.0018\n",
      "Epoch 55/99\n",
      "200000/200000 [==============================] - 3s 16us/step - loss: 0.9983 - acc: 0.0017 - val_loss: 0.9982 - val_acc: 0.0018\n",
      "Epoch 56/99\n",
      "200000/200000 [==============================] - 3s 15us/step - loss: 0.9983 - acc: 0.0017 - val_loss: 0.9982 - val_acc: 0.0018\n",
      "Epoch 57/99\n",
      "200000/200000 [==============================] - 3s 15us/step - loss: 0.9983 - acc: 0.0017 - val_loss: 0.9982 - val_acc: 0.0018\n",
      "Epoch 58/99\n",
      "200000/200000 [==============================] - 3s 15us/step - loss: 0.9983 - acc: 0.0017 - val_loss: 0.9982 - val_acc: 0.0018\n",
      "Epoch 59/99\n",
      "200000/200000 [==============================] - 3s 15us/step - loss: 0.9983 - acc: 0.0017 - val_loss: 0.9982 - val_acc: 0.0018\n",
      "Epoch 60/99\n",
      "200000/200000 [==============================] - 3s 15us/step - loss: 0.9983 - acc: 0.0017 - val_loss: 0.9982 - val_acc: 0.0018\n",
      "Epoch 61/99\n",
      "200000/200000 [==============================] - 3s 15us/step - loss: 0.9983 - acc: 0.0017 - val_loss: 0.9982 - val_acc: 0.0018\n",
      "Epoch 62/99\n",
      "200000/200000 [==============================] - 3s 15us/step - loss: 0.9983 - acc: 0.0017 - val_loss: 0.9982 - val_acc: 0.0018\n",
      "Epoch 63/99\n",
      "200000/200000 [==============================] - 3s 15us/step - loss: 0.9983 - acc: 0.0017 - val_loss: 0.9982 - val_acc: 0.0018\n",
      "Epoch 64/99\n",
      "200000/200000 [==============================] - 3s 16us/step - loss: 0.9983 - acc: 0.0017 - val_loss: 0.9982 - val_acc: 0.0018\n",
      "Epoch 65/99\n",
      "200000/200000 [==============================] - 3s 15us/step - loss: 0.9983 - acc: 0.0017 - val_loss: 0.9982 - val_acc: 0.0018\n",
      "Epoch 66/99\n",
      "200000/200000 [==============================] - 3s 15us/step - loss: 0.9983 - acc: 0.0017 - val_loss: 0.9982 - val_acc: 0.0018\n",
      "Epoch 67/99\n",
      "200000/200000 [==============================] - 3s 15us/step - loss: 0.9983 - acc: 0.0017 - val_loss: 0.9982 - val_acc: 0.0018\n",
      "Epoch 68/99\n",
      "200000/200000 [==============================] - 3s 16us/step - loss: 0.9983 - acc: 0.0017 - val_loss: 0.9982 - val_acc: 0.0018\n",
      "Epoch 69/99\n",
      "200000/200000 [==============================] - 3s 15us/step - loss: 0.9983 - acc: 0.0017 - val_loss: 0.9982 - val_acc: 0.0018\n",
      "Epoch 70/99\n",
      "200000/200000 [==============================] - 3s 15us/step - loss: 0.9983 - acc: 0.0017 - val_loss: 0.9982 - val_acc: 0.0018\n",
      "Epoch 71/99\n",
      "200000/200000 [==============================] - 3s 15us/step - loss: 0.9983 - acc: 0.0017 - val_loss: 0.9982 - val_acc: 0.0018\n",
      "Epoch 72/99\n",
      "200000/200000 [==============================] - 3s 17us/step - loss: 0.9983 - acc: 0.0017 - val_loss: 0.9982 - val_acc: 0.0018\n",
      "Epoch 73/99\n",
      "200000/200000 [==============================] - 3s 17us/step - loss: 0.9983 - acc: 0.0017 - val_loss: 0.9982 - val_acc: 0.0018\n",
      "Epoch 74/99\n",
      "200000/200000 [==============================] - 3s 15us/step - loss: 0.9983 - acc: 0.0017 - val_loss: 0.9982 - val_acc: 0.0018\n",
      "Epoch 75/99\n",
      "200000/200000 [==============================] - 3s 15us/step - loss: 0.9983 - acc: 0.0017 - val_loss: 0.9982 - val_acc: 0.0018\n",
      "Epoch 76/99\n",
      "200000/200000 [==============================] - 3s 15us/step - loss: 0.9983 - acc: 0.0017 - val_loss: 0.9982 - val_acc: 0.0018\n",
      "Epoch 77/99\n",
      "200000/200000 [==============================] - 3s 15us/step - loss: 0.9983 - acc: 0.0017 - val_loss: 0.9982 - val_acc: 0.0018\n",
      "Epoch 78/99\n",
      "200000/200000 [==============================] - 3s 15us/step - loss: 0.9983 - acc: 0.0017 - val_loss: 0.9982 - val_acc: 0.0018\n",
      "Epoch 79/99\n",
      "200000/200000 [==============================] - 3s 15us/step - loss: 0.9983 - acc: 0.0017 - val_loss: 0.9982 - val_acc: 0.0018\n",
      "Epoch 80/99\n",
      "200000/200000 [==============================] - 3s 17us/step - loss: 0.9983 - acc: 0.0017 - val_loss: 0.9982 - val_acc: 0.0018\n",
      "Epoch 81/99\n",
      "200000/200000 [==============================] - 3s 16us/step - loss: 0.9983 - acc: 0.0017 - val_loss: 0.9982 - val_acc: 0.0018\n",
      "Epoch 82/99\n",
      "200000/200000 [==============================] - 3s 16us/step - loss: 0.9983 - acc: 0.0017 - val_loss: 0.9982 - val_acc: 0.0018\n",
      "Epoch 83/99\n",
      "200000/200000 [==============================] - 3s 16us/step - loss: 0.9983 - acc: 0.0017 - val_loss: 0.9982 - val_acc: 0.0018\n",
      "Epoch 84/99\n",
      "200000/200000 [==============================] - 3s 15us/step - loss: 0.9983 - acc: 0.0017 - val_loss: 0.9982 - val_acc: 0.0018\n",
      "Epoch 85/99\n",
      "200000/200000 [==============================] - 3s 15us/step - loss: 0.9983 - acc: 0.0017 - val_loss: 0.9982 - val_acc: 0.0018\n",
      "Epoch 86/99\n",
      "200000/200000 [==============================] - 3s 15us/step - loss: 0.9983 - acc: 0.0017 - val_loss: 0.9982 - val_acc: 0.0018\n",
      "Epoch 87/99\n",
      "200000/200000 [==============================] - 3s 15us/step - loss: 0.9983 - acc: 0.0017 - val_loss: 0.9982 - val_acc: 0.0018\n",
      "Epoch 88/99\n",
      "200000/200000 [==============================] - 3s 15us/step - loss: 0.9983 - acc: 0.0017 - val_loss: 0.9982 - val_acc: 0.0018\n",
      "Epoch 89/99\n",
      "200000/200000 [==============================] - 3s 15us/step - loss: 0.9983 - acc: 0.0017 - val_loss: 0.9982 - val_acc: 0.0018\n",
      "Epoch 90/99\n",
      "200000/200000 [==============================] - 3s 15us/step - loss: 0.9983 - acc: 0.0017 - val_loss: 0.9982 - val_acc: 0.0018\n",
      "Epoch 91/99\n",
      "200000/200000 [==============================] - 3s 15us/step - loss: 0.9983 - acc: 0.0017 - val_loss: 0.9982 - val_acc: 0.0018\n",
      "Epoch 92/99\n",
      "200000/200000 [==============================] - 3s 15us/step - loss: 0.9983 - acc: 0.0017 - val_loss: 0.9982 - val_acc: 0.0018\n",
      "Epoch 93/99\n",
      "200000/200000 [==============================] - 3s 16us/step - loss: 0.9983 - acc: 0.0017 - val_loss: 0.9982 - val_acc: 0.0018\n",
      "Epoch 94/99\n",
      "200000/200000 [==============================] - 3s 15us/step - loss: 0.9983 - acc: 0.0017 - val_loss: 0.9982 - val_acc: 0.0018\n",
      "Epoch 95/99\n",
      "200000/200000 [==============================] - 3s 16us/step - loss: 0.9983 - acc: 0.0017 - val_loss: 0.9982 - val_acc: 0.0018\n",
      "Epoch 96/99\n",
      "200000/200000 [==============================] - 3s 15us/step - loss: 0.9983 - acc: 0.0017 - val_loss: 0.9982 - val_acc: 0.0018\n",
      "Epoch 97/99\n",
      "200000/200000 [==============================] - 3s 15us/step - loss: 0.9983 - acc: 0.0017 - val_loss: 0.9982 - val_acc: 0.0018\n",
      "Epoch 98/99\n",
      "200000/200000 [==============================] - 3s 15us/step - loss: 0.9983 - acc: 0.0017 - val_loss: 0.9982 - val_acc: 0.0018\n",
      "Epoch 99/99\n",
      "200000/200000 [==============================] - 3s 15us/step - loss: 0.9983 - acc: 0.0017 - val_loss: 0.9982 - val_acc: 0.0018\n"
     ]
    },
    {
     "data": {
      "text/plain": [
       "<keras.callbacks.History at 0x1a1b24b4e0>"
      ]
     },
     "execution_count": 49,
     "metadata": {},
     "output_type": "execute_result"
    }
   ],
   "source": [
    "nn2.fit(X_train, y_train, batch_size=128, epochs=99, verbose=1, validation_data=(X_test, y_test))"
   ]
  },
  {
   "cell_type": "code",
   "execution_count": 50,
   "metadata": {},
   "outputs": [
    {
     "name": "stdout",
     "output_type": "stream",
     "text": [
      "200000/200000 [==============================] - 3s 15us/step\n"
     ]
    },
    {
     "data": {
      "text/plain": [
       "[0.0017778565070444528, 0.99822]"
      ]
     },
     "execution_count": 50,
     "metadata": {},
     "output_type": "execute_result"
    }
   ],
   "source": [
    "# 99.82% accuracy after another 99 epochs\n",
    "nn.evaluate(X_test, y_test)"
   ]
  },
  {
   "cell_type": "code",
   "execution_count": 51,
   "metadata": {},
   "outputs": [
    {
     "name": "stdout",
     "output_type": "stream",
     "text": [
      "Train on 200000 samples, validate on 200000 samples\n",
      "Epoch 1/99\n",
      "200000/200000 [==============================] - 3s 14us/step - loss: 0.9983 - acc: 0.0017 - val_loss: 0.9982 - val_acc: 0.0018\n",
      "Epoch 2/99\n",
      "200000/200000 [==============================] - 3s 14us/step - loss: 0.9983 - acc: 0.0017 - val_loss: 0.9982 - val_acc: 0.0018\n",
      "Epoch 3/99\n",
      "200000/200000 [==============================] - 3s 14us/step - loss: 0.9983 - acc: 0.0017 - val_loss: 0.9982 - val_acc: 0.0018\n",
      "Epoch 4/99\n",
      "200000/200000 [==============================] - 3s 14us/step - loss: 0.9983 - acc: 0.0017 - val_loss: 0.9982 - val_acc: 0.0018\n",
      "Epoch 5/99\n",
      "200000/200000 [==============================] - 3s 14us/step - loss: 0.9983 - acc: 0.0017 - val_loss: 0.9982 - val_acc: 0.0018\n",
      "Epoch 6/99\n",
      "200000/200000 [==============================] - 3s 14us/step - loss: 0.9983 - acc: 0.0017 - val_loss: 0.9982 - val_acc: 0.0018\n",
      "Epoch 7/99\n",
      "200000/200000 [==============================] - 3s 14us/step - loss: 0.9983 - acc: 0.0017 - val_loss: 0.9982 - val_acc: 0.0018\n",
      "Epoch 8/99\n",
      "200000/200000 [==============================] - 3s 14us/step - loss: 0.9983 - acc: 0.0017 - val_loss: 0.9982 - val_acc: 0.0018\n",
      "Epoch 9/99\n",
      "200000/200000 [==============================] - 3s 14us/step - loss: 0.9983 - acc: 0.0017 - val_loss: 0.9982 - val_acc: 0.0018\n",
      "Epoch 10/99\n",
      "200000/200000 [==============================] - 3s 15us/step - loss: 0.9983 - acc: 0.0017 - val_loss: 0.9982 - val_acc: 0.0018\n",
      "Epoch 11/99\n",
      "200000/200000 [==============================] - 3s 15us/step - loss: 0.9983 - acc: 0.0017 - val_loss: 0.9982 - val_acc: 0.0018\n",
      "Epoch 12/99\n",
      "200000/200000 [==============================] - 3s 14us/step - loss: 0.9983 - acc: 0.0017 - val_loss: 0.9982 - val_acc: 0.0018\n",
      "Epoch 13/99\n",
      "200000/200000 [==============================] - 3s 14us/step - loss: 0.9983 - acc: 0.0017 - val_loss: 0.9982 - val_acc: 0.0018\n",
      "Epoch 14/99\n",
      "200000/200000 [==============================] - 3s 14us/step - loss: 0.9983 - acc: 0.0017 - val_loss: 0.9982 - val_acc: 0.0018\n",
      "Epoch 15/99\n",
      "200000/200000 [==============================] - 3s 14us/step - loss: 0.9983 - acc: 0.0017 - val_loss: 0.9982 - val_acc: 0.0018\n",
      "Epoch 16/99\n",
      "200000/200000 [==============================] - 3s 14us/step - loss: 0.9983 - acc: 0.0017 - val_loss: 0.9982 - val_acc: 0.0018\n",
      "Epoch 17/99\n",
      "200000/200000 [==============================] - 3s 14us/step - loss: 0.9983 - acc: 0.0017 - val_loss: 0.9982 - val_acc: 0.0018\n",
      "Epoch 18/99\n",
      "200000/200000 [==============================] - 3s 15us/step - loss: 0.9983 - acc: 0.0017 - val_loss: 0.9982 - val_acc: 0.0018\n",
      "Epoch 19/99\n",
      "200000/200000 [==============================] - 3s 14us/step - loss: 0.9983 - acc: 0.0017 - val_loss: 0.9982 - val_acc: 0.0018\n",
      "Epoch 20/99\n",
      "200000/200000 [==============================] - 3s 15us/step - loss: 0.9983 - acc: 0.0017 - val_loss: 0.9982 - val_acc: 0.0018\n",
      "Epoch 21/99\n",
      "200000/200000 [==============================] - 3s 14us/step - loss: 0.9983 - acc: 0.0017 - val_loss: 0.9982 - val_acc: 0.0018\n",
      "Epoch 22/99\n",
      "200000/200000 [==============================] - 3s 15us/step - loss: 0.9983 - acc: 0.0017 - val_loss: 0.9982 - val_acc: 0.0018\n",
      "Epoch 23/99\n",
      "200000/200000 [==============================] - 3s 15us/step - loss: 0.9983 - acc: 0.0017 - val_loss: 0.9982 - val_acc: 0.0018\n",
      "Epoch 24/99\n",
      "200000/200000 [==============================] - 3s 15us/step - loss: 0.9983 - acc: 0.0017 - val_loss: 0.9982 - val_acc: 0.0018\n",
      "Epoch 25/99\n",
      "200000/200000 [==============================] - 3s 14us/step - loss: 0.9983 - acc: 0.0017 - val_loss: 0.9982 - val_acc: 0.0018\n",
      "Epoch 26/99\n",
      "200000/200000 [==============================] - 3s 14us/step - loss: 0.9983 - acc: 0.0017 - val_loss: 0.9982 - val_acc: 0.0018\n",
      "Epoch 27/99\n",
      "200000/200000 [==============================] - 3s 15us/step - loss: 0.9983 - acc: 0.0017 - val_loss: 0.9982 - val_acc: 0.0018\n",
      "Epoch 28/99\n",
      "200000/200000 [==============================] - 3s 15us/step - loss: 0.9983 - acc: 0.0017 - val_loss: 0.9982 - val_acc: 0.0018\n",
      "Epoch 29/99\n",
      "200000/200000 [==============================] - 3s 15us/step - loss: 0.9983 - acc: 0.0017 - val_loss: 0.9982 - val_acc: 0.0018\n",
      "Epoch 30/99\n",
      "200000/200000 [==============================] - 3s 15us/step - loss: 0.9983 - acc: 0.0017 - val_loss: 0.9982 - val_acc: 0.0018\n",
      "Epoch 31/99\n",
      "200000/200000 [==============================] - 3s 15us/step - loss: 0.9983 - acc: 0.0017 - val_loss: 0.9982 - val_acc: 0.0018\n",
      "Epoch 32/99\n",
      "200000/200000 [==============================] - 3s 14us/step - loss: 0.9983 - acc: 0.0017 - val_loss: 0.9982 - val_acc: 0.0018\n",
      "Epoch 33/99\n",
      "200000/200000 [==============================] - 3s 15us/step - loss: 0.9983 - acc: 0.0017 - val_loss: 0.9982 - val_acc: 0.0018\n",
      "Epoch 34/99\n",
      "200000/200000 [==============================] - 3s 15us/step - loss: 0.9983 - acc: 0.0017 - val_loss: 0.9982 - val_acc: 0.0018\n",
      "Epoch 35/99\n",
      "200000/200000 [==============================] - 3s 14us/step - loss: 0.9983 - acc: 0.0017 - val_loss: 0.9982 - val_acc: 0.0018\n",
      "Epoch 36/99\n",
      "200000/200000 [==============================] - 3s 14us/step - loss: 0.9983 - acc: 0.0017 - val_loss: 0.9982 - val_acc: 0.0018\n",
      "Epoch 37/99\n",
      "200000/200000 [==============================] - 3s 14us/step - loss: 0.9983 - acc: 0.0017 - val_loss: 0.9982 - val_acc: 0.0018\n",
      "Epoch 38/99\n",
      "200000/200000 [==============================] - 3s 15us/step - loss: 0.9983 - acc: 0.0017 - val_loss: 0.9982 - val_acc: 0.0018\n",
      "Epoch 39/99\n",
      "200000/200000 [==============================] - 3s 15us/step - loss: 0.9983 - acc: 0.0017 - val_loss: 0.9982 - val_acc: 0.0018\n",
      "Epoch 40/99\n",
      "200000/200000 [==============================] - 3s 15us/step - loss: 0.9983 - acc: 0.0017 - val_loss: 0.9982 - val_acc: 0.0018\n",
      "Epoch 41/99\n",
      "200000/200000 [==============================] - 3s 15us/step - loss: 0.9983 - acc: 0.0017 - val_loss: 0.9982 - val_acc: 0.0018\n",
      "Epoch 42/99\n",
      "200000/200000 [==============================] - 3s 15us/step - loss: 0.9983 - acc: 0.0017 - val_loss: 0.9982 - val_acc: 0.0018\n",
      "Epoch 43/99\n",
      "200000/200000 [==============================] - 3s 15us/step - loss: 0.9983 - acc: 0.0017 - val_loss: 0.9982 - val_acc: 0.0018\n",
      "Epoch 44/99\n",
      "200000/200000 [==============================] - 3s 15us/step - loss: 0.9983 - acc: 0.0017 - val_loss: 0.9982 - val_acc: 0.0018\n",
      "Epoch 45/99\n",
      "200000/200000 [==============================] - 3s 15us/step - loss: 0.9983 - acc: 0.0017 - val_loss: 0.9982 - val_acc: 0.0018\n",
      "Epoch 46/99\n",
      "200000/200000 [==============================] - 3s 15us/step - loss: 0.9983 - acc: 0.0017 - val_loss: 0.9982 - val_acc: 0.0018\n",
      "Epoch 47/99\n",
      "200000/200000 [==============================] - 3s 15us/step - loss: 0.9983 - acc: 0.0017 - val_loss: 0.9982 - val_acc: 0.0018\n",
      "Epoch 48/99\n",
      "200000/200000 [==============================] - 3s 15us/step - loss: 0.9983 - acc: 0.0017 - val_loss: 0.9982 - val_acc: 0.0018\n",
      "Epoch 49/99\n",
      "200000/200000 [==============================] - 3s 14us/step - loss: 0.9983 - acc: 0.0017 - val_loss: 0.9982 - val_acc: 0.0018\n",
      "Epoch 50/99\n",
      "200000/200000 [==============================] - 3s 14us/step - loss: 0.9983 - acc: 0.0017 - val_loss: 0.9982 - val_acc: 0.0018\n",
      "Epoch 51/99\n",
      "200000/200000 [==============================] - 3s 15us/step - loss: 0.9983 - acc: 0.0017 - val_loss: 0.9982 - val_acc: 0.0018\n",
      "Epoch 52/99\n",
      "200000/200000 [==============================] - 3s 16us/step - loss: 0.9983 - acc: 0.0017 - val_loss: 0.9982 - val_acc: 0.0018\n",
      "Epoch 53/99\n",
      "200000/200000 [==============================] - 3s 15us/step - loss: 0.9983 - acc: 0.0017 - val_loss: 0.9982 - val_acc: 0.0018\n",
      "Epoch 54/99\n",
      "200000/200000 [==============================] - 3s 15us/step - loss: 0.9983 - acc: 0.0017 - val_loss: 0.9982 - val_acc: 0.0018\n",
      "Epoch 55/99\n",
      "200000/200000 [==============================] - 3s 15us/step - loss: 0.9983 - acc: 0.0017 - val_loss: 0.9982 - val_acc: 0.0018\n",
      "Epoch 56/99\n",
      "200000/200000 [==============================] - 3s 15us/step - loss: 0.9983 - acc: 0.0017 - val_loss: 0.9982 - val_acc: 0.0018\n",
      "Epoch 57/99\n",
      "200000/200000 [==============================] - 3s 15us/step - loss: 0.9983 - acc: 0.0017 - val_loss: 0.9982 - val_acc: 0.0018\n",
      "Epoch 58/99\n",
      "200000/200000 [==============================] - 3s 15us/step - loss: 0.9983 - acc: 0.0017 - val_loss: 0.9982 - val_acc: 0.0018\n",
      "Epoch 59/99\n",
      "200000/200000 [==============================] - 3s 15us/step - loss: 0.9983 - acc: 0.0017 - val_loss: 0.9982 - val_acc: 0.0018\n",
      "Epoch 60/99\n",
      "200000/200000 [==============================] - 3s 15us/step - loss: 0.9983 - acc: 0.0017 - val_loss: 0.9982 - val_acc: 0.0018\n",
      "Epoch 61/99\n",
      "200000/200000 [==============================] - 3s 15us/step - loss: 0.9983 - acc: 0.0017 - val_loss: 0.9982 - val_acc: 0.0018\n",
      "Epoch 62/99\n",
      "200000/200000 [==============================] - 3s 15us/step - loss: 0.9983 - acc: 0.0017 - val_loss: 0.9982 - val_acc: 0.0018\n",
      "Epoch 63/99\n",
      "200000/200000 [==============================] - 3s 15us/step - loss: 0.9983 - acc: 0.0017 - val_loss: 0.9982 - val_acc: 0.0018\n",
      "Epoch 64/99\n",
      "200000/200000 [==============================] - 3s 15us/step - loss: 0.9983 - acc: 0.0017 - val_loss: 0.9982 - val_acc: 0.0018\n",
      "Epoch 65/99\n",
      "200000/200000 [==============================] - 3s 15us/step - loss: 0.9983 - acc: 0.0017 - val_loss: 0.9982 - val_acc: 0.0018\n",
      "Epoch 66/99\n",
      "200000/200000 [==============================] - 3s 15us/step - loss: 0.9983 - acc: 0.0017 - val_loss: 0.9982 - val_acc: 0.0018\n",
      "Epoch 67/99\n",
      "200000/200000 [==============================] - 3s 15us/step - loss: 0.9983 - acc: 0.0017 - val_loss: 0.9982 - val_acc: 0.0018\n",
      "Epoch 68/99\n",
      "200000/200000 [==============================] - 3s 15us/step - loss: 0.9983 - acc: 0.0017 - val_loss: 0.9982 - val_acc: 0.0018\n",
      "Epoch 69/99\n",
      "200000/200000 [==============================] - 3s 15us/step - loss: 0.9983 - acc: 0.0017 - val_loss: 0.9982 - val_acc: 0.0018\n",
      "Epoch 70/99\n",
      "200000/200000 [==============================] - 3s 15us/step - loss: 0.9983 - acc: 0.0017 - val_loss: 0.9982 - val_acc: 0.0018\n",
      "Epoch 71/99\n",
      "200000/200000 [==============================] - 3s 15us/step - loss: 0.9983 - acc: 0.0017 - val_loss: 0.9982 - val_acc: 0.0018\n",
      "Epoch 72/99\n",
      "200000/200000 [==============================] - 3s 15us/step - loss: 0.9983 - acc: 0.0017 - val_loss: 0.9982 - val_acc: 0.0018\n",
      "Epoch 73/99\n",
      "200000/200000 [==============================] - 3s 14us/step - loss: 0.9983 - acc: 0.0017 - val_loss: 0.9982 - val_acc: 0.0018\n",
      "Epoch 74/99\n",
      "200000/200000 [==============================] - 3s 15us/step - loss: 0.9983 - acc: 0.0017 - val_loss: 0.9982 - val_acc: 0.0018\n",
      "Epoch 75/99\n",
      "200000/200000 [==============================] - 3s 15us/step - loss: 0.9983 - acc: 0.0017 - val_loss: 0.9982 - val_acc: 0.0018\n",
      "Epoch 76/99\n",
      "200000/200000 [==============================] - 3s 15us/step - loss: 0.9983 - acc: 0.0017 - val_loss: 0.9982 - val_acc: 0.0018\n",
      "Epoch 77/99\n",
      "200000/200000 [==============================] - 3s 15us/step - loss: 0.9983 - acc: 0.0017 - val_loss: 0.9982 - val_acc: 0.0018\n",
      "Epoch 78/99\n",
      "200000/200000 [==============================] - 3s 15us/step - loss: 0.9983 - acc: 0.0017 - val_loss: 0.9982 - val_acc: 0.0018\n",
      "Epoch 79/99\n",
      "200000/200000 [==============================] - 3s 15us/step - loss: 0.9983 - acc: 0.0017 - val_loss: 0.9982 - val_acc: 0.0018\n",
      "Epoch 80/99\n",
      "200000/200000 [==============================] - 3s 15us/step - loss: 0.9983 - acc: 0.0017 - val_loss: 0.9982 - val_acc: 0.0018\n",
      "Epoch 81/99\n",
      "200000/200000 [==============================] - 3s 16us/step - loss: 0.9983 - acc: 0.0017 - val_loss: 0.9982 - val_acc: 0.0018\n",
      "Epoch 82/99\n",
      "200000/200000 [==============================] - 4s 18us/step - loss: 0.9983 - acc: 0.0017 - val_loss: 0.9982 - val_acc: 0.0018\n",
      "Epoch 83/99\n",
      "200000/200000 [==============================] - 3s 15us/step - loss: 0.9983 - acc: 0.0017 - val_loss: 0.9982 - val_acc: 0.0018\n",
      "Epoch 84/99\n",
      "200000/200000 [==============================] - 3s 15us/step - loss: 0.9983 - acc: 0.0017 - val_loss: 0.9982 - val_acc: 0.0018\n",
      "Epoch 85/99\n",
      "200000/200000 [==============================] - 3s 15us/step - loss: 0.9983 - acc: 0.0017 - val_loss: 0.9982 - val_acc: 0.0018\n",
      "Epoch 86/99\n",
      "200000/200000 [==============================] - 3s 15us/step - loss: 0.9983 - acc: 0.0017 - val_loss: 0.9982 - val_acc: 0.0018\n",
      "Epoch 87/99\n",
      "200000/200000 [==============================] - 3s 15us/step - loss: 0.9983 - acc: 0.0017 - val_loss: 0.9982 - val_acc: 0.0018\n",
      "Epoch 88/99\n",
      "200000/200000 [==============================] - 3s 15us/step - loss: 0.9983 - acc: 0.0017 - val_loss: 0.9982 - val_acc: 0.0018\n",
      "Epoch 89/99\n",
      "200000/200000 [==============================] - 3s 16us/step - loss: 0.9983 - acc: 0.0017 - val_loss: 0.9982 - val_acc: 0.0018\n",
      "Epoch 90/99\n",
      "200000/200000 [==============================] - 3s 15us/step - loss: 0.9983 - acc: 0.0017 - val_loss: 0.9982 - val_acc: 0.0018\n",
      "Epoch 91/99\n",
      "200000/200000 [==============================] - 3s 15us/step - loss: 0.9983 - acc: 0.0017 - val_loss: 0.9982 - val_acc: 0.0018\n",
      "Epoch 92/99\n",
      "200000/200000 [==============================] - 3s 15us/step - loss: 0.9983 - acc: 0.0017 - val_loss: 0.9982 - val_acc: 0.0018\n",
      "Epoch 93/99\n",
      "200000/200000 [==============================] - 3s 15us/step - loss: 0.9983 - acc: 0.0017 - val_loss: 0.9982 - val_acc: 0.0018\n",
      "Epoch 94/99\n",
      "200000/200000 [==============================] - 3s 15us/step - loss: 0.9983 - acc: 0.0017 - val_loss: 0.9982 - val_acc: 0.0018\n",
      "Epoch 95/99\n",
      "200000/200000 [==============================] - 3s 15us/step - loss: 0.9983 - acc: 0.0017 - val_loss: 0.9982 - val_acc: 0.0018\n",
      "Epoch 96/99\n",
      "200000/200000 [==============================] - 3s 15us/step - loss: 0.9983 - acc: 0.0017 - val_loss: 0.9982 - val_acc: 0.0018\n",
      "Epoch 97/99\n",
      "200000/200000 [==============================] - 3s 15us/step - loss: 0.9983 - acc: 0.0017 - val_loss: 0.9982 - val_acc: 0.0018\n",
      "Epoch 98/99\n",
      "200000/200000 [==============================] - 3s 15us/step - loss: 0.9983 - acc: 0.0017 - val_loss: 0.9982 - val_acc: 0.0018\n",
      "Epoch 99/99\n",
      "200000/200000 [==============================] - 3s 15us/step - loss: 0.9983 - acc: 0.0017 - val_loss: 0.9982 - val_acc: 0.0018\n"
     ]
    },
    {
     "data": {
      "text/plain": [
       "<keras.callbacks.History at 0x1a1b2cbeb8>"
      ]
     },
     "execution_count": 51,
     "metadata": {},
     "output_type": "execute_result"
    }
   ],
   "source": [
    "nn2.fit(X_train, y_train, batch_size=128, epochs=99, verbose=1, validation_data=(X_test, y_test))"
   ]
  },
  {
   "cell_type": "code",
   "execution_count": 52,
   "metadata": {},
   "outputs": [
    {
     "name": "stdout",
     "output_type": "stream",
     "text": [
      "200000/200000 [==============================] - 3s 16us/step\n"
     ]
    },
    {
     "data": {
      "text/plain": [
       "[0.99822, 0.00178]"
      ]
     },
     "execution_count": 52,
     "metadata": {},
     "output_type": "execute_result"
    }
   ],
   "source": [
    "# 99.82% accuracy after another 99 epochs with Relu\n",
    "# Seems to be a plateau\n",
    "nn2.evaluate(X_test, y_test)"
   ]
  },
  {
   "cell_type": "code",
   "execution_count": 53,
   "metadata": {
    "collapsed": true
   },
   "outputs": [],
   "source": [
    "def shallow_net_C(n=55,i=5,o=2):\n",
    "    # create simple one dense layer net\n",
    "    # default 55 neurons, input 5, output 2\n",
    "    # Using relu and \n",
    "    net = Sequential()\n",
    "    net.add(Dense(n, activation='relu', input_shape=(i,)))\n",
    "    net.add(Dense(2, activation='softmax'))\n",
    "    # Compile net\n",
    "    net.compile(loss='categorical_crossentropy', optimizer=SGD(lr=0.01), metrics=['accuracy'])\n",
    "    return net"
   ]
  },
  {
   "cell_type": "code",
   "execution_count": 54,
   "metadata": {},
   "outputs": [
    {
     "name": "stdout",
     "output_type": "stream",
     "text": [
      "_________________________________________________________________\n",
      "Layer (type)                 Output Shape              Param #   \n",
      "=================================================================\n",
      "dense_5 (Dense)              (None, 55)                330       \n",
      "_________________________________________________________________\n",
      "dense_6 (Dense)              (None, 2)                 112       \n",
      "=================================================================\n",
      "Total params: 442\n",
      "Trainable params: 442\n",
      "Non-trainable params: 0\n",
      "_________________________________________________________________\n"
     ]
    }
   ],
   "source": [
    "nn3=shallow_net_C()\n",
    "nn3.summary()"
   ]
  },
  {
   "cell_type": "code",
   "execution_count": 55,
   "metadata": {},
   "outputs": [
    {
     "name": "stdout",
     "output_type": "stream",
     "text": [
      "Train on 200000 samples, validate on 200000 samples\n",
      "Epoch 1/99\n",
      "200000/200000 [==============================] - 3s 17us/step - loss: 0.5723 - acc: 0.9645 - val_loss: 0.0287 - val_acc: 0.9982\n",
      "Epoch 2/99\n",
      "200000/200000 [==============================] - 3s 15us/step - loss: 0.0280 - acc: 0.9983 - val_loss: 0.0287 - val_acc: 0.9982\n",
      "Epoch 3/99\n",
      "200000/200000 [==============================] - 3s 16us/step - loss: 0.0280 - acc: 0.9983 - val_loss: 0.0287 - val_acc: 0.9982\n",
      "Epoch 4/99\n",
      "200000/200000 [==============================] - 3s 16us/step - loss: 0.0280 - acc: 0.9983 - val_loss: 0.0287 - val_acc: 0.9982\n",
      "Epoch 5/99\n",
      "200000/200000 [==============================] - 3s 16us/step - loss: 0.0280 - acc: 0.9983 - val_loss: 0.0287 - val_acc: 0.9982\n",
      "Epoch 6/99\n",
      "200000/200000 [==============================] - 3s 15us/step - loss: 0.0280 - acc: 0.9983 - val_loss: 0.0287 - val_acc: 0.9982\n",
      "Epoch 7/99\n",
      "200000/200000 [==============================] - 3s 16us/step - loss: 0.0280 - acc: 0.9983 - val_loss: 0.0287 - val_acc: 0.9982\n",
      "Epoch 8/99\n",
      "200000/200000 [==============================] - 3s 15us/step - loss: 0.0280 - acc: 0.9983 - val_loss: 0.0287 - val_acc: 0.9982\n",
      "Epoch 9/99\n",
      "200000/200000 [==============================] - 3s 15us/step - loss: 0.0280 - acc: 0.9983 - val_loss: 0.0287 - val_acc: 0.9982\n",
      "Epoch 10/99\n",
      "200000/200000 [==============================] - 3s 16us/step - loss: 0.0280 - acc: 0.9983 - val_loss: 0.0287 - val_acc: 0.9982\n",
      "Epoch 11/99\n",
      "200000/200000 [==============================] - 3s 15us/step - loss: 0.0280 - acc: 0.9983 - val_loss: 0.0287 - val_acc: 0.9982\n",
      "Epoch 12/99\n",
      "200000/200000 [==============================] - 3s 16us/step - loss: 0.0280 - acc: 0.9983 - val_loss: 0.0287 - val_acc: 0.9982\n",
      "Epoch 13/99\n",
      "200000/200000 [==============================] - 3s 16us/step - loss: 0.0280 - acc: 0.9983 - val_loss: 0.0287 - val_acc: 0.9982\n",
      "Epoch 14/99\n",
      "200000/200000 [==============================] - 3s 16us/step - loss: 0.0280 - acc: 0.9983 - val_loss: 0.0287 - val_acc: 0.9982\n",
      "Epoch 15/99\n",
      "200000/200000 [==============================] - 3s 15us/step - loss: 0.0280 - acc: 0.9983 - val_loss: 0.0287 - val_acc: 0.9982\n",
      "Epoch 16/99\n",
      "200000/200000 [==============================] - 3s 16us/step - loss: 0.0280 - acc: 0.9983 - val_loss: 0.0287 - val_acc: 0.9982\n",
      "Epoch 17/99\n",
      "200000/200000 [==============================] - 3s 16us/step - loss: 0.0280 - acc: 0.9983 - val_loss: 0.0287 - val_acc: 0.9982\n",
      "Epoch 18/99\n",
      "200000/200000 [==============================] - 3s 16us/step - loss: 0.0280 - acc: 0.9983 - val_loss: 0.0287 - val_acc: 0.9982\n",
      "Epoch 19/99\n",
      "200000/200000 [==============================] - 3s 15us/step - loss: 0.0280 - acc: 0.9983 - val_loss: 0.0287 - val_acc: 0.9982\n",
      "Epoch 20/99\n",
      "200000/200000 [==============================] - 3s 16us/step - loss: 0.0280 - acc: 0.9983 - val_loss: 0.0287 - val_acc: 0.9982\n",
      "Epoch 21/99\n",
      "200000/200000 [==============================] - 3s 15us/step - loss: 0.0280 - acc: 0.9983 - val_loss: 0.0287 - val_acc: 0.9982\n",
      "Epoch 22/99\n",
      "200000/200000 [==============================] - 4s 18us/step - loss: 0.0280 - acc: 0.9983 - val_loss: 0.0287 - val_acc: 0.9982\n",
      "Epoch 23/99\n",
      "200000/200000 [==============================] - 4s 21us/step - loss: 0.0280 - acc: 0.9983 - val_loss: 0.0287 - val_acc: 0.9982\n",
      "Epoch 24/99\n",
      "200000/200000 [==============================] - 4s 18us/step - loss: 0.0280 - acc: 0.9983 - val_loss: 0.0287 - val_acc: 0.9982\n",
      "Epoch 25/99\n",
      "200000/200000 [==============================] - 3s 17us/step - loss: 0.0280 - acc: 0.9983 - val_loss: 0.0287 - val_acc: 0.9982\n",
      "Epoch 26/99\n",
      "200000/200000 [==============================] - 3s 16us/step - loss: 0.0280 - acc: 0.9983 - val_loss: 0.0287 - val_acc: 0.9982\n",
      "Epoch 27/99\n",
      "200000/200000 [==============================] - 4s 22us/step - loss: 0.0280 - acc: 0.9983 - val_loss: 0.0287 - val_acc: 0.9982\n",
      "Epoch 28/99\n",
      "200000/200000 [==============================] - 4s 18us/step - loss: 0.0280 - acc: 0.9983 - val_loss: 0.0287 - val_acc: 0.9982\n",
      "Epoch 29/99\n",
      "200000/200000 [==============================] - 4s 20us/step - loss: 0.0280 - acc: 0.9983 - val_loss: 0.0287 - val_acc: 0.9982\n",
      "Epoch 30/99\n",
      "200000/200000 [==============================] - 4s 18us/step - loss: 0.0280 - acc: 0.9983 - val_loss: 0.0287 - val_acc: 0.9982\n",
      "Epoch 31/99\n",
      "200000/200000 [==============================] - 3s 17us/step - loss: 0.0280 - acc: 0.9983 - val_loss: 0.0287 - val_acc: 0.9982\n",
      "Epoch 32/99\n",
      "200000/200000 [==============================] - 3s 17us/step - loss: 0.0280 - acc: 0.9983 - val_loss: 0.0287 - val_acc: 0.9982\n",
      "Epoch 33/99\n",
      "200000/200000 [==============================] - 3s 17us/step - loss: 0.0280 - acc: 0.9983 - val_loss: 0.0287 - val_acc: 0.9982\n",
      "Epoch 34/99\n",
      "200000/200000 [==============================] - 3s 16us/step - loss: 0.0280 - acc: 0.9983 - val_loss: 0.0287 - val_acc: 0.9982\n",
      "Epoch 35/99\n",
      "200000/200000 [==============================] - 3s 16us/step - loss: 0.0280 - acc: 0.9983 - val_loss: 0.0287 - val_acc: 0.9982\n",
      "Epoch 36/99\n",
      "200000/200000 [==============================] - 3s 16us/step - loss: 0.0280 - acc: 0.9983 - val_loss: 0.0287 - val_acc: 0.9982\n",
      "Epoch 37/99\n",
      "200000/200000 [==============================] - 3s 16us/step - loss: 0.0280 - acc: 0.9983 - val_loss: 0.0287 - val_acc: 0.9982\n",
      "Epoch 38/99\n",
      "200000/200000 [==============================] - 3s 16us/step - loss: 0.0280 - acc: 0.9983 - val_loss: 0.0287 - val_acc: 0.9982\n",
      "Epoch 39/99\n",
      "200000/200000 [==============================] - 3s 16us/step - loss: 0.0280 - acc: 0.9983 - val_loss: 0.0287 - val_acc: 0.9982\n",
      "Epoch 40/99\n",
      "200000/200000 [==============================] - 3s 16us/step - loss: 0.0280 - acc: 0.9983 - val_loss: 0.0287 - val_acc: 0.9982\n",
      "Epoch 41/99\n",
      "200000/200000 [==============================] - 3s 16us/step - loss: 0.0280 - acc: 0.9983 - val_loss: 0.0287 - val_acc: 0.9982\n",
      "Epoch 42/99\n",
      "200000/200000 [==============================] - 3s 16us/step - loss: 0.0280 - acc: 0.9983 - val_loss: 0.0287 - val_acc: 0.9982\n",
      "Epoch 43/99\n",
      "200000/200000 [==============================] - 3s 17us/step - loss: 0.0280 - acc: 0.9983 - val_loss: 0.0287 - val_acc: 0.9982\n",
      "Epoch 44/99\n",
      "200000/200000 [==============================] - 3s 16us/step - loss: 0.0280 - acc: 0.9983 - val_loss: 0.0287 - val_acc: 0.9982\n",
      "Epoch 45/99\n",
      "200000/200000 [==============================] - 3s 16us/step - loss: 0.0280 - acc: 0.9983 - val_loss: 0.0287 - val_acc: 0.9982\n",
      "Epoch 46/99\n",
      "200000/200000 [==============================] - 3s 16us/step - loss: 0.0280 - acc: 0.9983 - val_loss: 0.0287 - val_acc: 0.9982\n",
      "Epoch 47/99\n",
      "200000/200000 [==============================] - 3s 17us/step - loss: 0.0280 - acc: 0.9983 - val_loss: 0.0287 - val_acc: 0.9982\n",
      "Epoch 48/99\n",
      "200000/200000 [==============================] - 3s 17us/step - loss: 0.0280 - acc: 0.9983 - val_loss: 0.0287 - val_acc: 0.9982\n",
      "Epoch 49/99\n",
      "200000/200000 [==============================] - 3s 16us/step - loss: 0.0280 - acc: 0.9983 - val_loss: 0.0287 - val_acc: 0.9982\n",
      "Epoch 50/99\n",
      "200000/200000 [==============================] - 3s 16us/step - loss: 0.0280 - acc: 0.9983 - val_loss: 0.0287 - val_acc: 0.9982\n",
      "Epoch 51/99\n",
      "200000/200000 [==============================] - 3s 16us/step - loss: 0.0280 - acc: 0.9983 - val_loss: 0.0287 - val_acc: 0.9982\n",
      "Epoch 52/99\n",
      "200000/200000 [==============================] - 3s 16us/step - loss: 0.0280 - acc: 0.9983 - val_loss: 0.0287 - val_acc: 0.9982\n",
      "Epoch 53/99\n",
      "200000/200000 [==============================] - 3s 17us/step - loss: 0.0280 - acc: 0.9983 - val_loss: 0.0287 - val_acc: 0.9982\n",
      "Epoch 54/99\n",
      "200000/200000 [==============================] - 3s 16us/step - loss: 0.0280 - acc: 0.9983 - val_loss: 0.0287 - val_acc: 0.9982\n",
      "Epoch 55/99\n",
      "200000/200000 [==============================] - 3s 17us/step - loss: 0.0280 - acc: 0.9983 - val_loss: 0.0287 - val_acc: 0.9982\n",
      "Epoch 56/99\n",
      "200000/200000 [==============================] - 3s 17us/step - loss: 0.0280 - acc: 0.9983 - val_loss: 0.0287 - val_acc: 0.9982\n",
      "Epoch 57/99\n",
      "200000/200000 [==============================] - 3s 17us/step - loss: 0.0280 - acc: 0.9983 - val_loss: 0.0287 - val_acc: 0.9982\n",
      "Epoch 58/99\n",
      "200000/200000 [==============================] - 3s 16us/step - loss: 0.0280 - acc: 0.9983 - val_loss: 0.0287 - val_acc: 0.9982\n",
      "Epoch 59/99\n",
      "200000/200000 [==============================] - 3s 17us/step - loss: 0.0280 - acc: 0.9983 - val_loss: 0.0287 - val_acc: 0.9982\n",
      "Epoch 60/99\n",
      "200000/200000 [==============================] - 3s 17us/step - loss: 0.0280 - acc: 0.9983 - val_loss: 0.0287 - val_acc: 0.9982\n",
      "Epoch 61/99\n",
      "200000/200000 [==============================] - 3s 17us/step - loss: 0.0280 - acc: 0.9983 - val_loss: 0.0287 - val_acc: 0.9982\n",
      "Epoch 62/99\n",
      "200000/200000 [==============================] - 3s 16us/step - loss: 0.0280 - acc: 0.9983 - val_loss: 0.0287 - val_acc: 0.9982\n",
      "Epoch 63/99\n",
      "200000/200000 [==============================] - 3s 16us/step - loss: 0.0280 - acc: 0.9983 - val_loss: 0.0287 - val_acc: 0.9982\n",
      "Epoch 64/99\n",
      "200000/200000 [==============================] - 3s 17us/step - loss: 0.0280 - acc: 0.9983 - val_loss: 0.0287 - val_acc: 0.9982\n",
      "Epoch 65/99\n",
      "200000/200000 [==============================] - 3s 17us/step - loss: 0.0280 - acc: 0.9983 - val_loss: 0.0287 - val_acc: 0.9982\n",
      "Epoch 66/99\n",
      "200000/200000 [==============================] - 3s 17us/step - loss: 0.0280 - acc: 0.9983 - val_loss: 0.0287 - val_acc: 0.9982\n",
      "Epoch 67/99\n",
      "200000/200000 [==============================] - 3s 17us/step - loss: 0.0280 - acc: 0.9983 - val_loss: 0.0287 - val_acc: 0.9982\n",
      "Epoch 68/99\n",
      "200000/200000 [==============================] - 3s 17us/step - loss: 0.0280 - acc: 0.9983 - val_loss: 0.0287 - val_acc: 0.9982\n",
      "Epoch 69/99\n",
      "200000/200000 [==============================] - 3s 17us/step - loss: 0.0280 - acc: 0.9983 - val_loss: 0.0287 - val_acc: 0.9982\n",
      "Epoch 70/99\n",
      "200000/200000 [==============================] - 3s 17us/step - loss: 0.0280 - acc: 0.9983 - val_loss: 0.0287 - val_acc: 0.9982\n",
      "Epoch 71/99\n",
      "200000/200000 [==============================] - 3s 16us/step - loss: 0.0280 - acc: 0.9983 - val_loss: 0.0287 - val_acc: 0.9982\n",
      "Epoch 72/99\n",
      "200000/200000 [==============================] - 3s 17us/step - loss: 0.0280 - acc: 0.9983 - val_loss: 0.0287 - val_acc: 0.9982\n",
      "Epoch 73/99\n",
      "200000/200000 [==============================] - 3s 16us/step - loss: 0.0280 - acc: 0.9983 - val_loss: 0.0287 - val_acc: 0.9982\n",
      "Epoch 74/99\n",
      "200000/200000 [==============================] - 4s 20us/step - loss: 0.0280 - acc: 0.9983 - val_loss: 0.0287 - val_acc: 0.9982\n",
      "Epoch 75/99\n",
      "200000/200000 [==============================] - 3s 17us/step - loss: 0.0280 - acc: 0.9983 - val_loss: 0.0287 - val_acc: 0.9982\n",
      "Epoch 76/99\n",
      "200000/200000 [==============================] - 3s 17us/step - loss: 0.0280 - acc: 0.9983 - val_loss: 0.0287 - val_acc: 0.9982\n",
      "Epoch 77/99\n",
      "200000/200000 [==============================] - 3s 17us/step - loss: 0.0280 - acc: 0.9983 - val_loss: 0.0287 - val_acc: 0.9982\n",
      "Epoch 78/99\n",
      "200000/200000 [==============================] - 3s 16us/step - loss: 0.0280 - acc: 0.9983 - val_loss: 0.0287 - val_acc: 0.9982\n",
      "Epoch 79/99\n",
      "200000/200000 [==============================] - 3s 17us/step - loss: 0.0280 - acc: 0.9983 - val_loss: 0.0287 - val_acc: 0.9982\n",
      "Epoch 80/99\n",
      "200000/200000 [==============================] - 3s 17us/step - loss: 0.0280 - acc: 0.9983 - val_loss: 0.0287 - val_acc: 0.9982\n",
      "Epoch 81/99\n",
      "200000/200000 [==============================] - 3s 17us/step - loss: 0.0280 - acc: 0.9983 - val_loss: 0.0287 - val_acc: 0.9982\n",
      "Epoch 82/99\n",
      "200000/200000 [==============================] - 3s 17us/step - loss: 0.0280 - acc: 0.9983 - val_loss: 0.0287 - val_acc: 0.9982\n",
      "Epoch 83/99\n",
      "200000/200000 [==============================] - 3s 16us/step - loss: 0.0280 - acc: 0.9983 - val_loss: 0.0287 - val_acc: 0.9982\n",
      "Epoch 84/99\n",
      "200000/200000 [==============================] - 3s 16us/step - loss: 0.0280 - acc: 0.9983 - val_loss: 0.0287 - val_acc: 0.9982\n",
      "Epoch 85/99\n",
      "200000/200000 [==============================] - 3s 16us/step - loss: 0.0280 - acc: 0.9983 - val_loss: 0.0287 - val_acc: 0.9982\n",
      "Epoch 86/99\n",
      "200000/200000 [==============================] - 3s 17us/step - loss: 0.0280 - acc: 0.9983 - val_loss: 0.0287 - val_acc: 0.9982\n",
      "Epoch 87/99\n",
      "200000/200000 [==============================] - 3s 16us/step - loss: 0.0280 - acc: 0.9983 - val_loss: 0.0287 - val_acc: 0.9982\n",
      "Epoch 88/99\n",
      "200000/200000 [==============================] - 3s 16us/step - loss: 0.0280 - acc: 0.9983 - val_loss: 0.0287 - val_acc: 0.9982\n",
      "Epoch 89/99\n",
      "200000/200000 [==============================] - 3s 17us/step - loss: 0.0280 - acc: 0.9983 - val_loss: 0.0287 - val_acc: 0.9982\n",
      "Epoch 90/99\n",
      "200000/200000 [==============================] - 3s 17us/step - loss: 0.0280 - acc: 0.9983 - val_loss: 0.0287 - val_acc: 0.9982\n",
      "Epoch 91/99\n",
      "200000/200000 [==============================] - 3s 17us/step - loss: 0.0280 - acc: 0.9983 - val_loss: 0.0287 - val_acc: 0.9982\n",
      "Epoch 92/99\n",
      "200000/200000 [==============================] - 3s 17us/step - loss: 0.0280 - acc: 0.9983 - val_loss: 0.0287 - val_acc: 0.9982\n",
      "Epoch 93/99\n",
      "200000/200000 [==============================] - 3s 17us/step - loss: 0.0280 - acc: 0.9983 - val_loss: 0.0287 - val_acc: 0.9982\n",
      "Epoch 94/99\n",
      "200000/200000 [==============================] - 3s 17us/step - loss: 0.0280 - acc: 0.9983 - val_loss: 0.0287 - val_acc: 0.9982\n",
      "Epoch 95/99\n",
      "200000/200000 [==============================] - 3s 17us/step - loss: 0.0280 - acc: 0.9983 - val_loss: 0.0287 - val_acc: 0.9982\n",
      "Epoch 96/99\n",
      "200000/200000 [==============================] - 3s 17us/step - loss: 0.0280 - acc: 0.9983 - val_loss: 0.0287 - val_acc: 0.9982\n",
      "Epoch 97/99\n",
      "200000/200000 [==============================] - 3s 17us/step - loss: 0.0280 - acc: 0.9983 - val_loss: 0.0287 - val_acc: 0.9982\n",
      "Epoch 98/99\n",
      "200000/200000 [==============================] - 3s 17us/step - loss: 0.0280 - acc: 0.9983 - val_loss: 0.0287 - val_acc: 0.9982\n",
      "Epoch 99/99\n",
      "200000/200000 [==============================] - 3s 17us/step - loss: 0.0280 - acc: 0.9983 - val_loss: 0.0287 - val_acc: 0.9982\n"
     ]
    },
    {
     "data": {
      "text/plain": [
       "<keras.callbacks.History at 0x1a1b2d1208>"
      ]
     },
     "execution_count": 55,
     "metadata": {},
     "output_type": "execute_result"
    }
   ],
   "source": [
    "nn3.fit(X_train, y_train, batch_size=128, epochs=99, verbose=1, validation_data=(X_test, y_test))"
   ]
  },
  {
   "cell_type": "code",
   "execution_count": 56,
   "metadata": {},
   "outputs": [
    {
     "name": "stdout",
     "output_type": "stream",
     "text": [
      "200000/200000 [==============================] - 3s 17us/step\n"
     ]
    },
    {
     "data": {
      "text/plain": [
       "[0.028690325632095337, 0.99822]"
      ]
     },
     "execution_count": 56,
     "metadata": {},
     "output_type": "execute_result"
    }
   ],
   "source": [
    "# 99.81% accuracy after first 99 epochs with Relu and Cross-entropy\n",
    "nn3.evaluate(X_test, y_test)"
   ]
  },
  {
   "cell_type": "code",
   "execution_count": 57,
   "metadata": {},
   "outputs": [
    {
     "name": "stdout",
     "output_type": "stream",
     "text": [
      "Train on 200000 samples, validate on 200000 samples\n",
      "Epoch 1/99\n",
      "200000/200000 [==============================] - 3s 16us/step - loss: 0.0280 - acc: 0.9983 - val_loss: 0.0287 - val_acc: 0.9982\n",
      "Epoch 2/99\n",
      "200000/200000 [==============================] - 3s 15us/step - loss: 0.0280 - acc: 0.9983 - val_loss: 0.0287 - val_acc: 0.9982\n",
      "Epoch 3/99\n",
      "200000/200000 [==============================] - 3s 15us/step - loss: 0.0280 - acc: 0.9983 - val_loss: 0.0287 - val_acc: 0.9982\n",
      "Epoch 4/99\n",
      "200000/200000 [==============================] - 3s 16us/step - loss: 0.0280 - acc: 0.9983 - val_loss: 0.0287 - val_acc: 0.9982\n",
      "Epoch 5/99\n",
      "200000/200000 [==============================] - 3s 16us/step - loss: 0.0280 - acc: 0.9983 - val_loss: 0.0287 - val_acc: 0.9982\n",
      "Epoch 6/99\n",
      "200000/200000 [==============================] - 3s 16us/step - loss: 0.0280 - acc: 0.9983 - val_loss: 0.0287 - val_acc: 0.9982\n",
      "Epoch 7/99\n",
      "200000/200000 [==============================] - 3s 16us/step - loss: 0.0280 - acc: 0.9983 - val_loss: 0.0287 - val_acc: 0.9982\n",
      "Epoch 8/99\n",
      "200000/200000 [==============================] - 3s 16us/step - loss: 0.0280 - acc: 0.9983 - val_loss: 0.0287 - val_acc: 0.9982\n",
      "Epoch 9/99\n",
      "200000/200000 [==============================] - 3s 16us/step - loss: 0.0280 - acc: 0.9983 - val_loss: 0.0287 - val_acc: 0.9982\n",
      "Epoch 10/99\n",
      "200000/200000 [==============================] - 3s 16us/step - loss: 0.0280 - acc: 0.9983 - val_loss: 0.0287 - val_acc: 0.9982\n",
      "Epoch 11/99\n",
      "200000/200000 [==============================] - 3s 16us/step - loss: 0.0280 - acc: 0.9983 - val_loss: 0.0287 - val_acc: 0.9982\n",
      "Epoch 12/99\n",
      "200000/200000 [==============================] - 3s 16us/step - loss: 0.0280 - acc: 0.9983 - val_loss: 0.0287 - val_acc: 0.9982\n",
      "Epoch 13/99\n",
      "200000/200000 [==============================] - 3s 16us/step - loss: 0.0280 - acc: 0.9983 - val_loss: 0.0287 - val_acc: 0.9982\n",
      "Epoch 14/99\n",
      "200000/200000 [==============================] - 3s 16us/step - loss: 0.0280 - acc: 0.9983 - val_loss: 0.0287 - val_acc: 0.9982\n",
      "Epoch 15/99\n",
      "200000/200000 [==============================] - 3s 15us/step - loss: 0.0280 - acc: 0.9983 - val_loss: 0.0287 - val_acc: 0.9982\n",
      "Epoch 16/99\n",
      "200000/200000 [==============================] - 3s 16us/step - loss: 0.0280 - acc: 0.9983 - val_loss: 0.0287 - val_acc: 0.9982\n",
      "Epoch 17/99\n",
      "200000/200000 [==============================] - 3s 16us/step - loss: 0.0280 - acc: 0.9983 - val_loss: 0.0287 - val_acc: 0.9982\n",
      "Epoch 18/99\n",
      "200000/200000 [==============================] - 3s 16us/step - loss: 0.0280 - acc: 0.9983 - val_loss: 0.0287 - val_acc: 0.9982\n",
      "Epoch 19/99\n",
      "200000/200000 [==============================] - 3s 16us/step - loss: 0.0280 - acc: 0.9983 - val_loss: 0.0287 - val_acc: 0.9982\n",
      "Epoch 20/99\n",
      "200000/200000 [==============================] - 3s 16us/step - loss: 0.0280 - acc: 0.9983 - val_loss: 0.0287 - val_acc: 0.9982\n",
      "Epoch 21/99\n",
      "200000/200000 [==============================] - 3s 16us/step - loss: 0.0280 - acc: 0.9983 - val_loss: 0.0287 - val_acc: 0.9982\n",
      "Epoch 22/99\n",
      "200000/200000 [==============================] - 3s 16us/step - loss: 0.0280 - acc: 0.9983 - val_loss: 0.0287 - val_acc: 0.9982\n",
      "Epoch 23/99\n",
      "200000/200000 [==============================] - 3s 16us/step - loss: 0.0280 - acc: 0.9983 - val_loss: 0.0287 - val_acc: 0.9982\n",
      "Epoch 24/99\n",
      "200000/200000 [==============================] - 3s 16us/step - loss: 0.0280 - acc: 0.9983 - val_loss: 0.0287 - val_acc: 0.9982\n",
      "Epoch 25/99\n",
      "200000/200000 [==============================] - 3s 16us/step - loss: 0.0280 - acc: 0.9983 - val_loss: 0.0287 - val_acc: 0.9982\n",
      "Epoch 26/99\n",
      "200000/200000 [==============================] - 3s 16us/step - loss: 0.0280 - acc: 0.9983 - val_loss: 0.0287 - val_acc: 0.9982\n",
      "Epoch 27/99\n",
      "200000/200000 [==============================] - 3s 16us/step - loss: 0.0280 - acc: 0.9983 - val_loss: 0.0287 - val_acc: 0.9982\n",
      "Epoch 28/99\n",
      "200000/200000 [==============================] - 3s 16us/step - loss: 0.0280 - acc: 0.9983 - val_loss: 0.0287 - val_acc: 0.9982\n",
      "Epoch 29/99\n",
      "200000/200000 [==============================] - 4s 19us/step - loss: 0.0280 - acc: 0.9983 - val_loss: 0.0287 - val_acc: 0.9982\n",
      "Epoch 30/99\n",
      "200000/200000 [==============================] - 3s 16us/step - loss: 0.0280 - acc: 0.9983 - val_loss: 0.0287 - val_acc: 0.9982\n",
      "Epoch 31/99\n",
      "200000/200000 [==============================] - 3s 16us/step - loss: 0.0280 - acc: 0.9983 - val_loss: 0.0287 - val_acc: 0.9982\n",
      "Epoch 32/99\n",
      "200000/200000 [==============================] - 3s 17us/step - loss: 0.0280 - acc: 0.9983 - val_loss: 0.0287 - val_acc: 0.9982\n",
      "Epoch 33/99\n",
      "200000/200000 [==============================] - 3s 16us/step - loss: 0.0280 - acc: 0.9983 - val_loss: 0.0287 - val_acc: 0.9982\n",
      "Epoch 34/99\n",
      "200000/200000 [==============================] - 3s 16us/step - loss: 0.0280 - acc: 0.9983 - val_loss: 0.0287 - val_acc: 0.9982\n",
      "Epoch 35/99\n",
      "200000/200000 [==============================] - 3s 16us/step - loss: 0.0280 - acc: 0.9983 - val_loss: 0.0287 - val_acc: 0.9982\n",
      "Epoch 36/99\n",
      "200000/200000 [==============================] - 3s 16us/step - loss: 0.0280 - acc: 0.9983 - val_loss: 0.0287 - val_acc: 0.9982\n",
      "Epoch 37/99\n",
      "200000/200000 [==============================] - 3s 16us/step - loss: 0.0280 - acc: 0.9983 - val_loss: 0.0287 - val_acc: 0.9982\n",
      "Epoch 38/99\n",
      "200000/200000 [==============================] - 3s 16us/step - loss: 0.0280 - acc: 0.9983 - val_loss: 0.0287 - val_acc: 0.9982\n",
      "Epoch 39/99\n",
      "200000/200000 [==============================] - 3s 17us/step - loss: 0.0280 - acc: 0.9983 - val_loss: 0.0287 - val_acc: 0.9982\n",
      "Epoch 40/99\n",
      "200000/200000 [==============================] - 3s 16us/step - loss: 0.0280 - acc: 0.9983 - val_loss: 0.0287 - val_acc: 0.9982\n",
      "Epoch 41/99\n",
      "200000/200000 [==============================] - 3s 16us/step - loss: 0.0280 - acc: 0.9983 - val_loss: 0.0287 - val_acc: 0.9982\n",
      "Epoch 42/99\n",
      "200000/200000 [==============================] - 3s 16us/step - loss: 0.0280 - acc: 0.9983 - val_loss: 0.0287 - val_acc: 0.9982\n",
      "Epoch 43/99\n",
      "200000/200000 [==============================] - 3s 16us/step - loss: 0.0280 - acc: 0.9983 - val_loss: 0.0287 - val_acc: 0.9982\n",
      "Epoch 44/99\n",
      "200000/200000 [==============================] - 3s 16us/step - loss: 0.0280 - acc: 0.9983 - val_loss: 0.0287 - val_acc: 0.9982\n",
      "Epoch 45/99\n",
      "200000/200000 [==============================] - 3s 16us/step - loss: 0.0280 - acc: 0.9983 - val_loss: 0.0287 - val_acc: 0.9982\n",
      "Epoch 46/99\n",
      "200000/200000 [==============================] - 4s 20us/step - loss: 0.0280 - acc: 0.9983 - val_loss: 0.0287 - val_acc: 0.9982\n",
      "Epoch 47/99\n",
      "200000/200000 [==============================] - 3s 17us/step - loss: 0.0280 - acc: 0.9983 - val_loss: 0.0287 - val_acc: 0.9982\n",
      "Epoch 48/99\n",
      "200000/200000 [==============================] - 3s 16us/step - loss: 0.0280 - acc: 0.9983 - val_loss: 0.0287 - val_acc: 0.9982\n",
      "Epoch 49/99\n",
      "200000/200000 [==============================] - 3s 16us/step - loss: 0.0280 - acc: 0.9983 - val_loss: 0.0287 - val_acc: 0.9982\n",
      "Epoch 50/99\n",
      "200000/200000 [==============================] - 3s 17us/step - loss: 0.0280 - acc: 0.9983 - val_loss: 0.0287 - val_acc: 0.9982\n",
      "Epoch 51/99\n",
      "200000/200000 [==============================] - 3s 16us/step - loss: 0.0280 - acc: 0.9983 - val_loss: 0.0287 - val_acc: 0.9982\n",
      "Epoch 52/99\n",
      "200000/200000 [==============================] - 3s 16us/step - loss: 0.0280 - acc: 0.9983 - val_loss: 0.0287 - val_acc: 0.9982\n",
      "Epoch 53/99\n",
      "200000/200000 [==============================] - 3s 16us/step - loss: 0.0280 - acc: 0.9983 - val_loss: 0.0287 - val_acc: 0.9982\n",
      "Epoch 54/99\n",
      "200000/200000 [==============================] - 3s 17us/step - loss: 0.0280 - acc: 0.9983 - val_loss: 0.0287 - val_acc: 0.9982\n",
      "Epoch 55/99\n",
      "200000/200000 [==============================] - 3s 16us/step - loss: 0.0280 - acc: 0.9983 - val_loss: 0.0287 - val_acc: 0.9982\n",
      "Epoch 56/99\n",
      "200000/200000 [==============================] - 3s 16us/step - loss: 0.0280 - acc: 0.9983 - val_loss: 0.0287 - val_acc: 0.9982\n",
      "Epoch 57/99\n",
      "200000/200000 [==============================] - 3s 17us/step - loss: 0.0280 - acc: 0.9983 - val_loss: 0.0287 - val_acc: 0.9982\n",
      "Epoch 58/99\n",
      "200000/200000 [==============================] - 3s 17us/step - loss: 0.0280 - acc: 0.9983 - val_loss: 0.0287 - val_acc: 0.9982\n",
      "Epoch 59/99\n",
      "200000/200000 [==============================] - 3s 17us/step - loss: 0.0280 - acc: 0.9983 - val_loss: 0.0287 - val_acc: 0.9982\n",
      "Epoch 60/99\n",
      "200000/200000 [==============================] - 3s 16us/step - loss: 0.0280 - acc: 0.9983 - val_loss: 0.0287 - val_acc: 0.9982\n",
      "Epoch 61/99\n",
      "200000/200000 [==============================] - 3s 17us/step - loss: 0.0280 - acc: 0.9983 - val_loss: 0.0287 - val_acc: 0.9982\n",
      "Epoch 62/99\n",
      "200000/200000 [==============================] - 3s 17us/step - loss: 0.0280 - acc: 0.9983 - val_loss: 0.0287 - val_acc: 0.9982\n",
      "Epoch 63/99\n",
      "200000/200000 [==============================] - 3s 17us/step - loss: 0.0280 - acc: 0.9983 - val_loss: 0.0287 - val_acc: 0.9982\n",
      "Epoch 64/99\n",
      "200000/200000 [==============================] - 3s 17us/step - loss: 0.0280 - acc: 0.9983 - val_loss: 0.0287 - val_acc: 0.9982\n",
      "Epoch 65/99\n",
      "200000/200000 [==============================] - 4s 20us/step - loss: 0.0280 - acc: 0.9983 - val_loss: 0.0287 - val_acc: 0.9982\n",
      "Epoch 66/99\n",
      "200000/200000 [==============================] - 3s 16us/step - loss: 0.0280 - acc: 0.9983 - val_loss: 0.0287 - val_acc: 0.9982\n",
      "Epoch 67/99\n",
      "200000/200000 [==============================] - 3s 16us/step - loss: 0.0280 - acc: 0.9983 - val_loss: 0.0287 - val_acc: 0.9982\n",
      "Epoch 68/99\n",
      "200000/200000 [==============================] - 3s 17us/step - loss: 0.0280 - acc: 0.9983 - val_loss: 0.0287 - val_acc: 0.9982\n",
      "Epoch 69/99\n",
      "200000/200000 [==============================] - 3s 17us/step - loss: 0.0280 - acc: 0.9983 - val_loss: 0.0287 - val_acc: 0.9982\n",
      "Epoch 70/99\n",
      "200000/200000 [==============================] - 3s 17us/step - loss: 0.0280 - acc: 0.9983 - val_loss: 0.0287 - val_acc: 0.9982\n",
      "Epoch 71/99\n",
      "200000/200000 [==============================] - 4s 19us/step - loss: 0.0280 - acc: 0.9983 - val_loss: 0.0287 - val_acc: 0.9982\n",
      "Epoch 72/99\n",
      "200000/200000 [==============================] - 3s 17us/step - loss: 0.0280 - acc: 0.9983 - val_loss: 0.0287 - val_acc: 0.9982\n",
      "Epoch 73/99\n",
      "200000/200000 [==============================] - 3s 17us/step - loss: 0.0280 - acc: 0.9983 - val_loss: 0.0287 - val_acc: 0.9982\n",
      "Epoch 74/99\n",
      "200000/200000 [==============================] - 3s 17us/step - loss: 0.0280 - acc: 0.9983 - val_loss: 0.0287 - val_acc: 0.9982\n",
      "Epoch 75/99\n",
      "200000/200000 [==============================] - 3s 17us/step - loss: 0.0280 - acc: 0.9983 - val_loss: 0.0287 - val_acc: 0.9982\n",
      "Epoch 76/99\n",
      "200000/200000 [==============================] - 3s 16us/step - loss: 0.0280 - acc: 0.9983 - val_loss: 0.0287 - val_acc: 0.9982\n",
      "Epoch 77/99\n",
      "200000/200000 [==============================] - 3s 17us/step - loss: 0.0280 - acc: 0.9983 - val_loss: 0.0287 - val_acc: 0.9982\n",
      "Epoch 78/99\n",
      "200000/200000 [==============================] - 3s 16us/step - loss: 0.0280 - acc: 0.9983 - val_loss: 0.0287 - val_acc: 0.9982\n",
      "Epoch 79/99\n",
      "200000/200000 [==============================] - 3s 16us/step - loss: 0.0280 - acc: 0.9983 - val_loss: 0.0287 - val_acc: 0.9982\n",
      "Epoch 80/99\n",
      "200000/200000 [==============================] - 4s 19us/step - loss: 0.0280 - acc: 0.9983 - val_loss: 0.0287 - val_acc: 0.9982\n",
      "Epoch 81/99\n",
      "200000/200000 [==============================] - 4s 18us/step - loss: 0.0280 - acc: 0.9983 - val_loss: 0.0287 - val_acc: 0.9982\n",
      "Epoch 82/99\n",
      "200000/200000 [==============================] - 3s 17us/step - loss: 0.0280 - acc: 0.9983 - val_loss: 0.0287 - val_acc: 0.9982\n",
      "Epoch 83/99\n",
      "200000/200000 [==============================] - 2s 11us/step - loss: 0.0280 - acc: 0.9983 - val_loss: 0.0287 - val_acc: 0.9982\n",
      "Epoch 84/99\n",
      "200000/200000 [==============================] - 3s 16us/step - loss: 0.0280 - acc: 0.9983 - val_loss: 0.0287 - val_acc: 0.9982\n",
      "Epoch 85/99\n",
      "200000/200000 [==============================] - 3s 17us/step - loss: 0.0280 - acc: 0.9983 - val_loss: 0.0287 - val_acc: 0.9982\n",
      "Epoch 86/99\n",
      "200000/200000 [==============================] - 3s 17us/step - loss: 0.0280 - acc: 0.9983 - val_loss: 0.0287 - val_acc: 0.9982\n",
      "Epoch 87/99\n",
      "200000/200000 [==============================] - 3s 17us/step - loss: 0.0280 - acc: 0.9983 - val_loss: 0.0287 - val_acc: 0.9982\n",
      "Epoch 88/99\n",
      "200000/200000 [==============================] - 3s 17us/step - loss: 0.0280 - acc: 0.9983 - val_loss: 0.0287 - val_acc: 0.9982\n",
      "Epoch 89/99\n",
      "200000/200000 [==============================] - 3s 15us/step - loss: 0.0280 - acc: 0.9983 - val_loss: 0.0287 - val_acc: 0.9982\n",
      "Epoch 90/99\n",
      "200000/200000 [==============================] - 3s 14us/step - loss: 0.0280 - acc: 0.9983 - val_loss: 0.0287 - val_acc: 0.9982\n",
      "Epoch 91/99\n",
      "200000/200000 [==============================] - 2s 12us/step - loss: 0.0280 - acc: 0.9983 - val_loss: 0.0287 - val_acc: 0.9982\n",
      "Epoch 92/99\n",
      "200000/200000 [==============================] - 2s 12us/step - loss: 0.0280 - acc: 0.9983 - val_loss: 0.0287 - val_acc: 0.9982\n",
      "Epoch 93/99\n",
      "200000/200000 [==============================] - 2s 12us/step - loss: 0.0280 - acc: 0.9983 - val_loss: 0.0287 - val_acc: 0.9982\n",
      "Epoch 94/99\n",
      "200000/200000 [==============================] - 2s 12us/step - loss: 0.0280 - acc: 0.9983 - val_loss: 0.0287 - val_acc: 0.9982\n",
      "Epoch 95/99\n",
      "200000/200000 [==============================] - 2s 12us/step - loss: 0.0280 - acc: 0.9983 - val_loss: 0.0287 - val_acc: 0.9982\n",
      "Epoch 96/99\n",
      "200000/200000 [==============================] - 2s 12us/step - loss: 0.0280 - acc: 0.9983 - val_loss: 0.0287 - val_acc: 0.9982\n",
      "Epoch 97/99\n",
      "200000/200000 [==============================] - 2s 12us/step - loss: 0.0280 - acc: 0.9983 - val_loss: 0.0287 - val_acc: 0.9982\n",
      "Epoch 98/99\n",
      "200000/200000 [==============================] - 2s 12us/step - loss: 0.0280 - acc: 0.9983 - val_loss: 0.0287 - val_acc: 0.9982\n",
      "Epoch 99/99\n",
      "200000/200000 [==============================] - 2s 12us/step - loss: 0.0280 - acc: 0.9983 - val_loss: 0.0287 - val_acc: 0.9982\n"
     ]
    },
    {
     "data": {
      "text/plain": [
       "<keras.callbacks.History at 0x1a1b2ccbe0>"
      ]
     },
     "execution_count": 57,
     "metadata": {},
     "output_type": "execute_result"
    }
   ],
   "source": [
    "nn3.fit(X_train, y_train, batch_size=128, epochs=99, verbose=1, validation_data=(X_test, y_test))"
   ]
  },
  {
   "cell_type": "code",
   "execution_count": 58,
   "metadata": {},
   "outputs": [
    {
     "name": "stdout",
     "output_type": "stream",
     "text": [
      "200000/200000 [==============================] - 2s 12us/step\n"
     ]
    },
    {
     "data": {
      "text/plain": [
       "[0.028690325632095337, 0.99822]"
      ]
     },
     "execution_count": 58,
     "metadata": {},
     "output_type": "execute_result"
    }
   ],
   "source": [
    "# 99.81% accuracy after first 99 epochs with Relu and Cross-entropy\n",
    "nn3.evaluate(X_test, y_test)"
   ]
  },
  {
   "cell_type": "markdown",
   "metadata": {},
   "source": [
    "### With a fairly simple shallow net we've done fairly well classifying (99.82% accuracy after another 99 epochs with Shallow Neural Network, and 99.81% accuracy with Relu and Cross-entropy) on the TalkingData whether is-attributed classification problem."
   ]
  },
  {
   "cell_type": "markdown",
   "metadata": {},
   "source": [
    "* Which hyper-parameters are important?\n",
    "Input, output, bactch-size, epochs, verbose are important.\n",
    "In addition, CNN: number of layers, number of units at each layer, ReLu,and Cross-entropy\n",
    "are important as well.\n",
    "* What hyper-parameter values work best? \n",
    "In Shallow neural network, 55 neurons, input:5, output:2, batch_size: 128, epochs:99, verbose:1\n",
    "work best. \n",
    "* How the neural network compare to the supervised learners in part A?\n",
    "Neural network is proficient to give the better classification by sing non linear boundaries. In addition it is even easy to overcome overfitting by some regularizer settings. In addition, there are lots of things ML stuffs that NN might be a solution. \n",
    "However, it takes long time to be trained well relative to other methods like Decision Tree."
   ]
  },
  {
   "cell_type": "markdown",
   "metadata": {},
   "source": [
    "# Part C"
   ]
  },
  {
   "cell_type": "code",
   "execution_count": 59,
   "metadata": {},
   "outputs": [],
   "source": [
    "from sklearn import model_selection\n",
    "from sklearn import svm\n",
    "from sklearn import linear_model\n",
    "from sklearn.linear_model import LogisticRegression\n",
    "from sklearn.neighbors import KNeighborsClassifier\n",
    "from sklearn.naive_bayes import GaussianNB \n",
    "from sklearn.ensemble import RandomForestClassifier\n",
    "from mlxtend.classifier import StackingClassifier\n",
    "import numpy as np"
   ]
  },
  {
   "cell_type": "markdown",
   "metadata": {},
   "source": [
    "### Simple Stacked Classification"
   ]
  },
  {
   "cell_type": "code",
   "execution_count": 60,
   "metadata": {},
   "outputs": [
    {
     "name": "stdout",
     "output_type": "stream",
     "text": [
      "10-fold cross validation:\n",
      "\n",
      "Accuracy: 0.95 (+/- 0.00) [KNN]\n",
      "Accuracy: 0.95 (+/- 0.02) [Random Forest]\n",
      "Accuracy: 0.93 (+/- 0.04) [Naive Bayes]\n",
      "Accuracy: 0.95 (+/- 0.00) [SVCStackingClassifier]\n"
     ]
    }
   ],
   "source": [
    "knn = KNeighborsClassifier(n_neighbors=6)\n",
    "rf = RandomForestClassifier(random_state=6)\n",
    "gau = GaussianNB()\n",
    "lr = LogisticRegression()\n",
    "\n",
    "sckf = StackingClassifier(classifiers=[knn, rf, gau], \n",
    "                          meta_classifier=lr)\n",
    "\n",
    "X = csv_file[['ip', 'app', 'os', 'channel']][:200]\n",
    "y = csv_file[['device']].values.ravel()[:200]\n",
    "\n",
    "print('10-fold cross validation:\\n')\n",
    "for clf, label in zip([knn, rf, gau, sckf], \n",
    "                      ['KNN', \n",
    "                       'Random Forest', \n",
    "                       'Naive Bayes',\n",
    "                       'SVC'\n",
    "                       'StackingClassifier']):\n",
    "\n",
    "    scores = model_selection.cross_val_score(clf, X, y, \n",
    "                                              cv=10)\n",
    "    print(\"Accuracy: %0.2f (+/- %0.2f) [%s]\" \n",
    "          % (scores.mean(), scores.std(), label))"
   ]
  },
  {
   "cell_type": "code",
   "execution_count": 63,
   "metadata": {
    "collapsed": true
   },
   "outputs": [],
   "source": [
    "import matplotlib.pyplot as plt\n",
    "from mlxtend.plotting import plot_decision_regions\n",
    "import matplotlib.gridspec as gridspec\n",
    "import itertools\n",
    "X = np.asarray(X)"
   ]
  },
  {
   "cell_type": "code",
   "execution_count": 64,
   "metadata": {},
   "outputs": [
    {
     "data": {
      "image/png": "[encoded data removed]",
      "text/plain": [
       "<Figure size 720x576 with 4 Axes>"
      ]
     },
     "metadata": {},
     "output_type": "display_data"
    }
   ],
   "source": [
    "gs = gridspec.GridSpec(2, 2)\n",
    "\n",
    "fig = plt.figure(figsize=(10,8))\n",
    "\n",
    "for clf, lab, grd in zip([knn, rf, gau, sckf], \n",
    "                         ['KNN', \n",
    "                          'Random Forest', \n",
    "                          'Naive Bayes',\n",
    "                          'StackingClassifier'],\n",
    "                          itertools.product([0, 1], repeat=2)):\n",
    "\n",
    "    clf.fit(X, y)\n",
    "    ax = plt.subplot(gs[grd[0], grd[1]])\n",
    "    fig = plot_decision_regions(X=X, y=y, clf=clf, filler_feature_values={2: 1, 3 : 1.5})\n",
    "    plt.title(lab)"
   ]
  },
  {
   "cell_type": "markdown",
   "metadata": {
    "collapsed": true
   },
   "source": [
    "### Using Probabilities as Meta-Features"
   ]
  },
  {
   "cell_type": "code",
   "execution_count": 66,
   "metadata": {},
   "outputs": [
    {
     "name": "stdout",
     "output_type": "stream",
     "text": [
      "10-fold cross validation:\n",
      "\n",
      "Accuracy: 0.95 (+/- 0.00) [KNN]\n",
      "Accuracy: 0.95 (+/- 0.02) [Random Forest]\n",
      "Accuracy: 0.93 (+/- 0.04) [Naive Bayes]\n",
      "Accuracy: 0.95 (+/- 0.02) [SVCStackingClassifier]\n"
     ]
    }
   ],
   "source": [
    "knn = KNeighborsClassifier(n_neighbors=6)\n",
    "rf = RandomForestClassifier(random_state=6)\n",
    "gau = GaussianNB()\n",
    "lr = LogisticRegression()\n",
    "\n",
    "sckf = StackingClassifier(classifiers=[knn, rf, gau], \n",
    "                          use_probas=True,\n",
    "                          average_probas=False,\n",
    "                          meta_classifier=lr)\n",
    "\n",
    "print('10-fold cross validation:\\n')\n",
    "for clf, label in zip([knn, rf, gau, sckf], \n",
    "                      ['KNN', \n",
    "                       'Random Forest', \n",
    "                       'Naive Bayes',\n",
    "                       'SVC'\n",
    "                       'StackingClassifier']):\n",
    "\n",
    "    scores = model_selection.cross_val_score(clf, X, y, \n",
    "                                              cv=10)\n",
    "    print(\"Accuracy: %0.2f (+/- %0.2f) [%s]\" \n",
    "          % (scores.mean(), scores.std(), label))"
   ]
  },
  {
   "cell_type": "markdown",
   "metadata": {
    "collapsed": true
   },
   "source": [
    "### Stacked Classification and GridSearch"
   ]
  },
  {
   "cell_type": "code",
   "execution_count": 67,
   "metadata": {
    "collapsed": true
   },
   "outputs": [],
   "source": [
    "from sklearn.model_selection import GridSearchCV"
   ]
  },
  {
   "cell_type": "code",
   "execution_count": 68,
   "metadata": {},
   "outputs": [
    {
     "name": "stdout",
     "output_type": "stream",
     "text": [
      "0.950 +/- 0.00 {'kneighborsclassifier__n_neighbors': 1, 'randomforestclassifier__n_estimators': 10, 'meta-logisticregression__C': 0.1}\n",
      "0.950 +/- 0.00 {'kneighborsclassifier__n_neighbors': 1, 'randomforestclassifier__n_estimators': 50, 'meta-logisticregression__C': 0.1}\n",
      "0.925 +/- 0.01 {'kneighborsclassifier__n_neighbors': 1, 'randomforestclassifier__n_estimators': 10, 'meta-logisticregression__C': 10.0}\n",
      "0.950 +/- 0.00 {'kneighborsclassifier__n_neighbors': 1, 'randomforestclassifier__n_estimators': 50, 'meta-logisticregression__C': 10.0}\n",
      "0.950 +/- 0.00 {'kneighborsclassifier__n_neighbors': 5, 'randomforestclassifier__n_estimators': 10, 'meta-logisticregression__C': 0.1}\n",
      "0.950 +/- 0.00 {'kneighborsclassifier__n_neighbors': 5, 'randomforestclassifier__n_estimators': 50, 'meta-logisticregression__C': 0.1}\n",
      "0.950 +/- 0.01 {'kneighborsclassifier__n_neighbors': 5, 'randomforestclassifier__n_estimators': 10, 'meta-logisticregression__C': 10.0}\n",
      "0.945 +/- 0.01 {'kneighborsclassifier__n_neighbors': 5, 'randomforestclassifier__n_estimators': 50, 'meta-logisticregression__C': 10.0}\n",
      "Best parameters: {'kneighborsclassifier__n_neighbors': 1, 'randomforestclassifier__n_estimators': 10, 'meta-logisticregression__C': 0.1}\n",
      "Accuracy: 0.95\n"
     ]
    }
   ],
   "source": [
    "knn = KNeighborsClassifier(n_neighbors=6)\n",
    "rf = RandomForestClassifier(random_state=6)\n",
    "gau = GaussianNB()\n",
    "lr = LogisticRegression()\n",
    "\n",
    "sclf = StackingClassifier(classifiers=[knn, rf, gau], \n",
    "                          meta_classifier=lr)\n",
    "\n",
    "params = {'kneighborsclassifier__n_neighbors': [1, 5],\n",
    "          'randomforestclassifier__n_estimators': [10, 50],\n",
    "          'meta-logisticregression__C': [0.1, 10.0]}\n",
    "\n",
    "grid = GridSearchCV(estimator=sclf, \n",
    "                    param_grid=params, \n",
    "                    cv=5,\n",
    "                    refit=True)\n",
    "grid.fit(X, y)\n",
    "\n",
    "cv_keys = ('mean_test_score', 'std_test_score', 'params')\n",
    "\n",
    "for r, _ in enumerate(grid.cv_results_['mean_test_score']):\n",
    "    print(\"%0.3f +/- %0.2f %r\"\n",
    "          % (grid.cv_results_[cv_keys[0]][r],\n",
    "             grid.cv_results_[cv_keys[1]][r] / 2.0,\n",
    "             grid.cv_results_[cv_keys[2]][r]))\n",
    "\n",
    "print('Best parameters: %s' % grid.best_params_)\n",
    "print('Accuracy: %.2f' % grid.best_score_)"
   ]
  },
  {
   "cell_type": "markdown",
   "metadata": {},
   "source": [
    "### Stacking of Classifiers that Operate on Different Feature Subsets"
   ]
  },
  {
   "cell_type": "code",
   "execution_count": 69,
   "metadata": {
    "collapsed": true
   },
   "outputs": [],
   "source": [
    "from mlxtend.feature_selection import ColumnSelector\n",
    "from sklearn.pipeline import make_pipeline"
   ]
  },
  {
   "cell_type": "code",
   "execution_count": 70,
   "metadata": {},
   "outputs": [
    {
     "data": {
      "text/plain": [
       "StackingClassifier(average_probas=False,\n",
       "          classifiers=[Pipeline(memory=None,\n",
       "     steps=[('columnselector', ColumnSelector(cols=(0, 2), drop_axis=False)), ('logisticregression', LogisticRegression(C=1.0, class_weight=None, dual=False, fit_intercept=True,\n",
       "          intercept_scaling=1, max_iter=100, multi_class='ovr', n_jobs=1,\n",
       "          pen...='l2', random_state=None, solver='liblinear', tol=0.0001,\n",
       "          verbose=0, warm_start=False))])],\n",
       "          meta_classifier=LogisticRegression(C=1.0, class_weight=None, dual=False, fit_intercept=True,\n",
       "          intercept_scaling=1, max_iter=100, multi_class='ovr', n_jobs=1,\n",
       "          penalty='l2', random_state=None, solver='liblinear', tol=0.0001,\n",
       "          verbose=0, warm_start=False),\n",
       "          store_train_meta_features=False, use_clones=True,\n",
       "          use_features_in_secondary=False, use_probas=False, verbose=0)"
      ]
     },
     "execution_count": 70,
     "metadata": {},
     "output_type": "execute_result"
    }
   ],
   "source": [
    "pipe1 = make_pipeline(ColumnSelector(cols=(0, 2)),\n",
    "                      LogisticRegression())\n",
    "pipe2 = make_pipeline(ColumnSelector(cols=(1, 2, 3)),\n",
    "                      LogisticRegression())\n",
    "\n",
    "sclf = StackingClassifier(classifiers=[pipe1, pipe2], \n",
    "                          meta_classifier=LogisticRegression())\n",
    "\n",
    "sclf.fit(X, y)"
   ]
  },
  {
   "cell_type": "markdown",
   "metadata": {},
   "source": [
    "## Did the stacked ensemble super-model help?\n",
    "    Yes. The ensemble methods successfully boost predictive accuracy by combining the predictions of multiple machine learning models. As an efficient ensemble method, its predictions, generated by using various machine learning algorithms, are used as inputs in a second-layer learning algorithm. This second-layer algorithm is trained to optimally combine the model predictions to form a new set of predictions."
   ]
  },
  {
   "cell_type": "markdown",
   "metadata": {},
   "source": [
    "## Answer the following questions for the stacked ensemble super-model:\n",
    "1. How did to combine the models?\n",
    "       Stacking combine multiple classification models via a meta-classifier as an ensemble learning technique. The individual classification models are trained based on the complete training set; then, the meta-classifier is fitted based on the outputs -- meta-features -- of the individual classification models in the ensemble. The meta-classifier can either be trained on the predicted class labels or probabilities from the ensemble.\n",
    "       As an efficient ensemble method, its predictions, generated by using various machine learning algorithms, are used as inputs in a second-layer learning algorithm. This second-layer algorithm is trained to optimally combine the model predictions to form a new set of predictions.\n",
    "2. Cross-validate the model. How well did it do?\n",
    "       All observations are used for both training and validation, and each observation is used for validation exactly once. In repeated cross-validation, the cross-validation procedure is repeated n times, yielding n random partitions of the original sample. The n results are again averaged (or otherwise combined) to produce a single estimation. It tells you generically how good the algorithm you chose will be at predicting out-of-sample. And in here, it successfully proves that the stacked ensemble super-model works well and this model really boost predictive accuracy."
   ]
  },
  {
   "cell_type": "code",
   "execution_count": null,
   "metadata": {
    "collapsed": true
   },
   "outputs": [],
   "source": []
  }
 ],
 "metadata": {
  "anaconda-cloud": {},
  "kernelspec": {
   "display_name": "Python 3",
   "language": "python",
   "name": "python3"
  },
  "language_info": {
   "codemirror_mode": {
    "name": "ipython",
    "version": 3
   },
   "file_extension": ".py",
   "mimetype": "text/x-python",
   "name": "python",
   "nbconvert_exporter": "python",
   "pygments_lexer": "ipython3",
   "version": "3.6.4"
  }
 },
 "nbformat": 4,
 "nbformat_minor": 2
}
